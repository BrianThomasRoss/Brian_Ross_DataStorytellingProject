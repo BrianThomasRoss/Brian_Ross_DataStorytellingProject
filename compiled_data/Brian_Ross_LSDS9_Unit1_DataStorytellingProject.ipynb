{
  "nbformat": 4,
  "nbformat_minor": 0,
  "metadata": {
    "colab": {
      "name": "Brian_Ross_LSDS9_Unit1_DataStorytellingProject.ipynb",
      "provenance": [],
      "collapsed_sections": [],
      "toc_visible": true
    },
    "kernelspec": {
      "name": "python3",
      "display_name": "Python 3"
    }
  },
  "cells": [
    {
      "cell_type": "markdown",
      "metadata": {
        "id": "Bzl__OPiFd90",
        "colab_type": "text"
      },
      "source": [
        "## Imports"
      ]
    },
    {
      "cell_type": "code",
      "metadata": {
        "id": "PECOqwe6Eo_o",
        "colab_type": "code",
        "colab": {}
      },
      "source": [
        "import numpy as np    # lin alg\n",
        "import pandas as pd   # data manipulation\n",
        "import matplotlib.pyplot as plt # basic visualizations\n",
        "import seaborn as sns\n",
        "from functools import reduce\n",
        "pd.options.mode.chained_assignment = None  # default='warn'\n",
        "from google.colab import files"
      ],
      "execution_count": 0,
      "outputs": []
    },
    {
      "cell_type": "markdown",
      "metadata": {
        "id": "VmqmVYoPhQQP",
        "colab_type": "text"
      },
      "source": [
        "## PFD Datasets"
      ]
    },
    {
      "cell_type": "code",
      "metadata": {
        "id": "Yzd49VvvFoqN",
        "colab_type": "code",
        "colab": {}
      },
      "source": [
        "pfd_16 = pd.read_csv('https://raw.githubusercontent.com/BrianThomasRoss/Brian_Ross_DataStorytellingProject/master/raw_csv_files/PFDs/2016PFD%20-%20Sheet1.csv?token=ALRVPBXKWISC7FARAFUNAMK5WO76S')\n",
        "pfd_15 = pd.read_csv('https://raw.githubusercontent.com/BrianThomasRoss/Brian_Ross_DataStorytellingProject/master/raw_csv_files/PFDs/2015PFD%20-%20Sheet1.csv?token=ALRVPBRQRDHRMI5SWMHOOSK5WRPOC')\n",
        "pfd_14 = pd.read_csv('https://raw.githubusercontent.com/BrianThomasRoss/Brian_Ross_DataStorytellingProject/master/raw_csv_files/PFDs/2014PFD%20-%20Sheet1.csv?token=ALRVPBWOPATBQHF47BJPQ7C5WRPQK')\n",
        "pfd_13 = pd.read_csv('https://raw.githubusercontent.com/BrianThomasRoss/Brian_Ross_DataStorytellingProject/master/raw_csv_files/PFDs/2013PFD%20-%20Sheet1.csv?token=ALRVPBUZN2V2W4O4MOMO2H25WRPSO')\n",
        "pfd_12 = pd.read_csv('https://raw.githubusercontent.com/BrianThomasRoss/Brian_Ross_DataStorytellingProject/master/raw_csv_files/PFDs/2012PFD%20-%20Sheet1.csv?token=ALRVPBQCOTPMVLDX3JOCLW25WRPTY')\n",
        "pfd_11 = pd.read_csv('https://raw.githubusercontent.com/BrianThomasRoss/Brian_Ross_DataStorytellingProject/master/raw_csv_files/PFDs/2011PFD%20-%20Sheet1.csv?token=ALRVPBWEPQGI7NPTUKSQ4H25WRPWA')\n",
        "pfd_10 = pd.read_csv('https://raw.githubusercontent.com/BrianThomasRoss/Brian_Ross_DataStorytellingProject/master/raw_csv_files/PFDs/2010PFD%20-%20Sheet1.csv?token=ALRVPBRPYYNZ34RZ53RNFRS5WRPXE')"
      ],
      "execution_count": 0,
      "outputs": []
    },
    {
      "cell_type": "code",
      "metadata": {
        "id": "x4jNL9BDBPo8",
        "colab_type": "code",
        "outputId": "33668b74-1c0d-43a4-894b-5c3206ad6773",
        "colab": {
          "base_uri": "https://localhost:8080/",
          "height": 204
        }
      },
      "source": [
        "pfd_16.head()"
      ],
      "execution_count": 50,
      "outputs": [
        {
          "output_type": "execute_result",
          "data": {
            "text/html": [
              "<div>\n",
              "<style scoped>\n",
              "    .dataframe tbody tr th:only-of-type {\n",
              "        vertical-align: middle;\n",
              "    }\n",
              "\n",
              "    .dataframe tbody tr th {\n",
              "        vertical-align: top;\n",
              "    }\n",
              "\n",
              "    .dataframe thead th {\n",
              "        text-align: right;\n",
              "    }\n",
              "</style>\n",
              "<table border=\"1\" class=\"dataframe\">\n",
              "  <thead>\n",
              "    <tr style=\"text-align: right;\">\n",
              "      <th></th>\n",
              "      <th>Rank</th>\n",
              "      <th>Name</th>\n",
              "      <th>Minimum Net Worth</th>\n",
              "      <th>Average</th>\n",
              "      <th>Maximum Net Worth</th>\n",
              "      <th>Chamber</th>\n",
              "    </tr>\n",
              "  </thead>\n",
              "  <tbody>\n",
              "    <tr>\n",
              "      <th>0</th>\n",
              "      <td>4</td>\n",
              "      <td>Darrell Issa (R-Calif)</td>\n",
              "      <td>$163,165,026</td>\n",
              "      <td>$323,782,513</td>\n",
              "      <td>$484,400,000</td>\n",
              "      <td>House</td>\n",
              "    </tr>\n",
              "    <tr>\n",
              "      <th>1</th>\n",
              "      <td>5</td>\n",
              "      <td>Jared Polis (D-Colo)</td>\n",
              "      <td>$162,686,457</td>\n",
              "      <td>$308,189,229</td>\n",
              "      <td>$453,692,001</td>\n",
              "      <td>House</td>\n",
              "    </tr>\n",
              "    <tr>\n",
              "      <th>2</th>\n",
              "      <td>8</td>\n",
              "      <td>Mark Warner (D-Va)</td>\n",
              "      <td>$90,164,166</td>\n",
              "      <td>$245,680,083</td>\n",
              "      <td>$401,196,000</td>\n",
              "      <td>Senate</td>\n",
              "    </tr>\n",
              "    <tr>\n",
              "      <th>3</th>\n",
              "      <td>9</td>\n",
              "      <td>John K Delaney (D-Md)</td>\n",
              "      <td>$92,656,173</td>\n",
              "      <td>$219,257,088</td>\n",
              "      <td>$345,858,003</td>\n",
              "      <td>House</td>\n",
              "    </tr>\n",
              "    <tr>\n",
              "      <th>4</th>\n",
              "      <td>10</td>\n",
              "      <td>Trey Hollingsworth (R-Ind)</td>\n",
              "      <td>$50,063,050</td>\n",
              "      <td>$142,704,025</td>\n",
              "      <td>$235,345,000</td>\n",
              "      <td>House</td>\n",
              "    </tr>\n",
              "  </tbody>\n",
              "</table>\n",
              "</div>"
            ],
            "text/plain": [
              "   Rank                        Name  ... Maximum Net Worth Chamber\n",
              "0     4      Darrell Issa (R-Calif)  ...      $484,400,000   House\n",
              "1     5        Jared Polis (D-Colo)  ...      $453,692,001   House\n",
              "2     8          Mark Warner (D-Va)  ...      $401,196,000  Senate\n",
              "3     9       John K Delaney (D-Md)  ...      $345,858,003   House\n",
              "4    10  Trey Hollingsworth (R-Ind)  ...      $235,345,000   House\n",
              "\n",
              "[5 rows x 6 columns]"
            ]
          },
          "metadata": {
            "tags": []
          },
          "execution_count": 50
        }
      ]
    },
    {
      "cell_type": "markdown",
      "metadata": {
        "id": "rqh1j2Mff55r",
        "colab_type": "text"
      },
      "source": [
        "### Data Wrangling"
      ]
    },
    {
      "cell_type": "markdown",
      "metadata": {
        "id": "EXEJa2ZpiQQK",
        "colab_type": "text"
      },
      "source": [
        "### Functions"
      ]
    },
    {
      "cell_type": "code",
      "metadata": {
        "id": "WwN7Iie2Io6v",
        "colab_type": "code",
        "colab": {}
      },
      "source": [
        "# DataFrame manipulations\n",
        "\n",
        "def drop_raw_columns(df):\n",
        "  \"\"\"Drops unneeded columns from input DataFrame\"\"\"\n",
        "  new_df = df[['Name', 'Average', 'Chamber']]\n",
        "  return new_df\n",
        "\n",
        "def net_worth_append_year(df, year):\n",
        "  \"\"\" Adds year info to net_worth column\"\"\"\n",
        "  df[f'net_worth_{str(year)}'] = df['net_worth']\n",
        "  return df\n",
        "\n",
        "def drop_post_wrangling(df):\n",
        "  \"\"\"Drops redundant columns and reorganizes new DataFrame\"\"\"\n",
        "  df['chamber'] = df['Chamber']\n",
        "  new_df = df.drop(columns=['Chamber', 'Name', 'Average', 'net_worth'])\n",
        "  return new_df\n",
        "\n",
        "def reorder_columns(df):\n",
        "  \"\"\"Reorders DataFrame columns to standard format\"\"\"\n",
        "  cols = df.columns.tolist()\n",
        "  df = df[[cols[-1], cols[0], cols[1], cols[-2]]]\n",
        "  return df\n",
        "\n",
        "# Extract data from the name column\n",
        "\n",
        "def get_first_name(fullname):\n",
        "  \"\"\" Returns the first name from the Name column\"\"\"\n",
        "  first_name = fullname.split(\" \")[0]\n",
        "  return first_name\n",
        "\n",
        "def get_surname(fullname):\n",
        "  \"\"\" Returns the last name from the Name column\"\"\"\n",
        "  surname = fullname.split(\" \")[-2]\n",
        "  return surname\n",
        "\n",
        "def to_last_first_format(fullname):\n",
        "  last_first = get_surname(fullname) + \", \" + get_first_name(fullname)\n",
        "  return last_first\n",
        "\n",
        "def get_party(fullname):\n",
        "  \"\"\" Returns the party affiliation from the Name column\"\"\"\n",
        "  split_fullname = fullname.split(\"-\")[0]\n",
        "  party = split_fullname[-1]\n",
        "  return party\n",
        "\n",
        "def get_state(fullname):\n",
        "  \"\"\" Returns the members state from the Name column\"\"\"\n",
        "  state = fullname.split('-')[1].strip(\")\")\n",
        "  return state\n",
        "\n",
        "# Average column data extraction\n",
        "\n",
        "def to_float(net_worth_str):\n",
        "  \"\"\" Converts str values to float \"\"\"\n",
        "  net_worth_float = float(net_worth_str.replace(\"$\", \"\").replace(\",\", \"\"))\n",
        "  return net_worth_float"
      ],
      "execution_count": 0,
      "outputs": []
    },
    {
      "cell_type": "code",
      "metadata": {
        "id": "-2UxFrbcSQdk",
        "colab_type": "code",
        "colab": {}
      },
      "source": [
        "def wrangle_pfd_data(df, year):\n",
        "  df = drop_raw_columns(df)\n",
        "  df['member_name'] = df['Name'].apply(to_last_first_format)\n",
        "  df['party'] = df['Name'].apply(get_party)\n",
        "  # df['state'] = df['Name'].apply(get_state)\n",
        "  df['net_worth'] = df['Average'].apply(to_float)\n",
        "  df = net_worth_append_year(df, year=year)\n",
        "  df = drop_post_wrangling(df)\n",
        "  df = reorder_columns(df)\n",
        "\n",
        "  return df"
      ],
      "execution_count": 0,
      "outputs": []
    },
    {
      "cell_type": "markdown",
      "metadata": {
        "id": "06yPflTrisJn",
        "colab_type": "text"
      },
      "source": [
        "### Reformatting the DataFrames"
      ]
    },
    {
      "cell_type": "code",
      "metadata": {
        "id": "FryPhSeuir1D",
        "colab_type": "code",
        "outputId": "f17943c5-3abb-4487-e7a7-af4c4f989399",
        "colab": {
          "base_uri": "https://localhost:8080/",
          "height": 204
        }
      },
      "source": [
        "pfd_16 = wrangle_pfd_data(pfd_16, 2016)\n",
        "pfd_16.head()"
      ],
      "execution_count": 53,
      "outputs": [
        {
          "output_type": "execute_result",
          "data": {
            "text/html": [
              "<div>\n",
              "<style scoped>\n",
              "    .dataframe tbody tr th:only-of-type {\n",
              "        vertical-align: middle;\n",
              "    }\n",
              "\n",
              "    .dataframe tbody tr th {\n",
              "        vertical-align: top;\n",
              "    }\n",
              "\n",
              "    .dataframe thead th {\n",
              "        text-align: right;\n",
              "    }\n",
              "</style>\n",
              "<table border=\"1\" class=\"dataframe\">\n",
              "  <thead>\n",
              "    <tr style=\"text-align: right;\">\n",
              "      <th></th>\n",
              "      <th>chamber</th>\n",
              "      <th>member_name</th>\n",
              "      <th>party</th>\n",
              "      <th>net_worth_2016</th>\n",
              "    </tr>\n",
              "  </thead>\n",
              "  <tbody>\n",
              "    <tr>\n",
              "      <th>0</th>\n",
              "      <td>House</td>\n",
              "      <td>Issa, Darrell</td>\n",
              "      <td>R</td>\n",
              "      <td>323782513.0</td>\n",
              "    </tr>\n",
              "    <tr>\n",
              "      <th>1</th>\n",
              "      <td>House</td>\n",
              "      <td>Polis, Jared</td>\n",
              "      <td>D</td>\n",
              "      <td>308189229.0</td>\n",
              "    </tr>\n",
              "    <tr>\n",
              "      <th>2</th>\n",
              "      <td>Senate</td>\n",
              "      <td>Warner, Mark</td>\n",
              "      <td>D</td>\n",
              "      <td>245680083.0</td>\n",
              "    </tr>\n",
              "    <tr>\n",
              "      <th>3</th>\n",
              "      <td>House</td>\n",
              "      <td>Delaney, John</td>\n",
              "      <td>D</td>\n",
              "      <td>219257088.0</td>\n",
              "    </tr>\n",
              "    <tr>\n",
              "      <th>4</th>\n",
              "      <td>House</td>\n",
              "      <td>Hollingsworth, Trey</td>\n",
              "      <td>R</td>\n",
              "      <td>142704025.0</td>\n",
              "    </tr>\n",
              "  </tbody>\n",
              "</table>\n",
              "</div>"
            ],
            "text/plain": [
              "  chamber          member_name party  net_worth_2016\n",
              "0   House        Issa, Darrell     R     323782513.0\n",
              "1   House         Polis, Jared     D     308189229.0\n",
              "2  Senate         Warner, Mark     D     245680083.0\n",
              "3   House        Delaney, John     D     219257088.0\n",
              "4   House  Hollingsworth, Trey     R     142704025.0"
            ]
          },
          "metadata": {
            "tags": []
          },
          "execution_count": 53
        }
      ]
    },
    {
      "cell_type": "code",
      "metadata": {
        "id": "KuT2witLeQLw",
        "colab_type": "code",
        "outputId": "506bfc7c-3dc4-42f7-a6dc-502bf1efb62e",
        "colab": {
          "base_uri": "https://localhost:8080/",
          "height": 204
        }
      },
      "source": [
        "pfd_15 = wrangle_pfd_data(pfd_15, 2015)\n",
        "pfd_15.head()"
      ],
      "execution_count": 54,
      "outputs": [
        {
          "output_type": "execute_result",
          "data": {
            "text/html": [
              "<div>\n",
              "<style scoped>\n",
              "    .dataframe tbody tr th:only-of-type {\n",
              "        vertical-align: middle;\n",
              "    }\n",
              "\n",
              "    .dataframe tbody tr th {\n",
              "        vertical-align: top;\n",
              "    }\n",
              "\n",
              "    .dataframe thead th {\n",
              "        text-align: right;\n",
              "    }\n",
              "</style>\n",
              "<table border=\"1\" class=\"dataframe\">\n",
              "  <thead>\n",
              "    <tr style=\"text-align: right;\">\n",
              "      <th></th>\n",
              "      <th>chamber</th>\n",
              "      <th>member_name</th>\n",
              "      <th>party</th>\n",
              "      <th>net_worth_2015</th>\n",
              "    </tr>\n",
              "  </thead>\n",
              "  <tbody>\n",
              "    <tr>\n",
              "      <th>0</th>\n",
              "      <td>House</td>\n",
              "      <td>Issa, Darrell</td>\n",
              "      <td>R</td>\n",
              "      <td>330050015.0</td>\n",
              "    </tr>\n",
              "    <tr>\n",
              "      <th>1</th>\n",
              "      <td>House</td>\n",
              "      <td>Polis, Jared</td>\n",
              "      <td>D</td>\n",
              "      <td>313556221.0</td>\n",
              "    </tr>\n",
              "    <tr>\n",
              "      <th>2</th>\n",
              "      <td>Senate</td>\n",
              "      <td>Warner, Mark</td>\n",
              "      <td>D</td>\n",
              "      <td>238157630.0</td>\n",
              "    </tr>\n",
              "    <tr>\n",
              "      <th>3</th>\n",
              "      <td>House</td>\n",
              "      <td>Delaney, John</td>\n",
              "      <td>D</td>\n",
              "      <td>232816089.0</td>\n",
              "    </tr>\n",
              "    <tr>\n",
              "      <th>4</th>\n",
              "      <td>House</td>\n",
              "      <td>Trott, Dave</td>\n",
              "      <td>R</td>\n",
              "      <td>177149145.0</td>\n",
              "    </tr>\n",
              "  </tbody>\n",
              "</table>\n",
              "</div>"
            ],
            "text/plain": [
              "  chamber    member_name party  net_worth_2015\n",
              "0   House  Issa, Darrell     R     330050015.0\n",
              "1   House   Polis, Jared     D     313556221.0\n",
              "2  Senate   Warner, Mark     D     238157630.0\n",
              "3   House  Delaney, John     D     232816089.0\n",
              "4   House    Trott, Dave     R     177149145.0"
            ]
          },
          "metadata": {
            "tags": []
          },
          "execution_count": 54
        }
      ]
    },
    {
      "cell_type": "code",
      "metadata": {
        "id": "MFRqPyohjZVY",
        "colab_type": "code",
        "outputId": "571f40b5-a125-43eb-9bc6-be9e8b4f6301",
        "colab": {
          "base_uri": "https://localhost:8080/",
          "height": 204
        }
      },
      "source": [
        "pfd_14 = wrangle_pfd_data(pfd_14, 2014)\n",
        "pfd_14.head()"
      ],
      "execution_count": 55,
      "outputs": [
        {
          "output_type": "execute_result",
          "data": {
            "text/html": [
              "<div>\n",
              "<style scoped>\n",
              "    .dataframe tbody tr th:only-of-type {\n",
              "        vertical-align: middle;\n",
              "    }\n",
              "\n",
              "    .dataframe tbody tr th {\n",
              "        vertical-align: top;\n",
              "    }\n",
              "\n",
              "    .dataframe thead th {\n",
              "        text-align: right;\n",
              "    }\n",
              "</style>\n",
              "<table border=\"1\" class=\"dataframe\">\n",
              "  <thead>\n",
              "    <tr style=\"text-align: right;\">\n",
              "      <th></th>\n",
              "      <th>chamber</th>\n",
              "      <th>member_name</th>\n",
              "      <th>party</th>\n",
              "      <th>net_worth_2014</th>\n",
              "    </tr>\n",
              "  </thead>\n",
              "  <tbody>\n",
              "    <tr>\n",
              "      <th>0</th>\n",
              "      <td>House</td>\n",
              "      <td>Issa, Darrell</td>\n",
              "      <td>R</td>\n",
              "      <td>436500015.0</td>\n",
              "    </tr>\n",
              "    <tr>\n",
              "      <th>1</th>\n",
              "      <td>House</td>\n",
              "      <td>Polis, Jared</td>\n",
              "      <td>D</td>\n",
              "      <td>387864231.0</td>\n",
              "    </tr>\n",
              "    <tr>\n",
              "      <th>2</th>\n",
              "      <td>Senate</td>\n",
              "      <td>Warner, Mark</td>\n",
              "      <td>D</td>\n",
              "      <td>242889630.0</td>\n",
              "    </tr>\n",
              "    <tr>\n",
              "      <th>3</th>\n",
              "      <td>House</td>\n",
              "      <td>Delaney, John</td>\n",
              "      <td>D</td>\n",
              "      <td>214902588.0</td>\n",
              "    </tr>\n",
              "    <tr>\n",
              "      <th>4</th>\n",
              "      <td>House</td>\n",
              "      <td>McCaul, Michael</td>\n",
              "      <td>R</td>\n",
              "      <td>160340931.0</td>\n",
              "    </tr>\n",
              "  </tbody>\n",
              "</table>\n",
              "</div>"
            ],
            "text/plain": [
              "  chamber      member_name party  net_worth_2014\n",
              "0   House    Issa, Darrell     R     436500015.0\n",
              "1   House     Polis, Jared     D     387864231.0\n",
              "2  Senate     Warner, Mark     D     242889630.0\n",
              "3   House    Delaney, John     D     214902588.0\n",
              "4   House  McCaul, Michael     R     160340931.0"
            ]
          },
          "metadata": {
            "tags": []
          },
          "execution_count": 55
        }
      ]
    },
    {
      "cell_type": "code",
      "metadata": {
        "id": "fLX8N9y3jk1G",
        "colab_type": "code",
        "outputId": "a7509a99-c478-4dbe-bb58-8cc0c27f3101",
        "colab": {
          "base_uri": "https://localhost:8080/",
          "height": 204
        }
      },
      "source": [
        "pfd_13 = wrangle_pfd_data(pfd_13, 2013)\n",
        "pfd_13.head()"
      ],
      "execution_count": 56,
      "outputs": [
        {
          "output_type": "execute_result",
          "data": {
            "text/html": [
              "<div>\n",
              "<style scoped>\n",
              "    .dataframe tbody tr th:only-of-type {\n",
              "        vertical-align: middle;\n",
              "    }\n",
              "\n",
              "    .dataframe tbody tr th {\n",
              "        vertical-align: top;\n",
              "    }\n",
              "\n",
              "    .dataframe thead th {\n",
              "        text-align: right;\n",
              "    }\n",
              "</style>\n",
              "<table border=\"1\" class=\"dataframe\">\n",
              "  <thead>\n",
              "    <tr style=\"text-align: right;\">\n",
              "      <th></th>\n",
              "      <th>chamber</th>\n",
              "      <th>member_name</th>\n",
              "      <th>party</th>\n",
              "      <th>net_worth_2013</th>\n",
              "    </tr>\n",
              "  </thead>\n",
              "  <tbody>\n",
              "    <tr>\n",
              "      <th>0</th>\n",
              "      <td>House</td>\n",
              "      <td>Issa, Darrell</td>\n",
              "      <td>R</td>\n",
              "      <td>448425019.0</td>\n",
              "    </tr>\n",
              "    <tr>\n",
              "      <th>1</th>\n",
              "      <td>Senate</td>\n",
              "      <td>Warner, Mark</td>\n",
              "      <td>D</td>\n",
              "      <td>254176651.0</td>\n",
              "    </tr>\n",
              "    <tr>\n",
              "      <th>2</th>\n",
              "      <td>House</td>\n",
              "      <td>Delaney, John</td>\n",
              "      <td>D</td>\n",
              "      <td>222410577.0</td>\n",
              "    </tr>\n",
              "    <tr>\n",
              "      <th>3</th>\n",
              "      <td>House</td>\n",
              "      <td>Polis, Jared</td>\n",
              "      <td>D</td>\n",
              "      <td>216269215.0</td>\n",
              "    </tr>\n",
              "    <tr>\n",
              "      <th>4</th>\n",
              "      <td>House</td>\n",
              "      <td>Trott, Dave</td>\n",
              "      <td>R</td>\n",
              "      <td>200509228.0</td>\n",
              "    </tr>\n",
              "  </tbody>\n",
              "</table>\n",
              "</div>"
            ],
            "text/plain": [
              "  chamber    member_name party  net_worth_2013\n",
              "0   House  Issa, Darrell     R     448425019.0\n",
              "1  Senate   Warner, Mark     D     254176651.0\n",
              "2   House  Delaney, John     D     222410577.0\n",
              "3   House   Polis, Jared     D     216269215.0\n",
              "4   House    Trott, Dave     R     200509228.0"
            ]
          },
          "metadata": {
            "tags": []
          },
          "execution_count": 56
        }
      ]
    },
    {
      "cell_type": "code",
      "metadata": {
        "id": "B-nTjZ2kjmq3",
        "colab_type": "code",
        "outputId": "d270adde-329c-4028-8946-3975b9cef592",
        "colab": {
          "base_uri": "https://localhost:8080/",
          "height": 204
        }
      },
      "source": [
        "pfd_12 = wrangle_pfd_data(pfd_12, 2012)\n",
        "pfd_12.head()"
      ],
      "execution_count": 57,
      "outputs": [
        {
          "output_type": "execute_result",
          "data": {
            "text/html": [
              "<div>\n",
              "<style scoped>\n",
              "    .dataframe tbody tr th:only-of-type {\n",
              "        vertical-align: middle;\n",
              "    }\n",
              "\n",
              "    .dataframe tbody tr th {\n",
              "        vertical-align: top;\n",
              "    }\n",
              "\n",
              "    .dataframe thead th {\n",
              "        text-align: right;\n",
              "    }\n",
              "</style>\n",
              "<table border=\"1\" class=\"dataframe\">\n",
              "  <thead>\n",
              "    <tr style=\"text-align: right;\">\n",
              "      <th></th>\n",
              "      <th>chamber</th>\n",
              "      <th>member_name</th>\n",
              "      <th>party</th>\n",
              "      <th>net_worth_2012</th>\n",
              "    </tr>\n",
              "  </thead>\n",
              "  <tbody>\n",
              "    <tr>\n",
              "      <th>0</th>\n",
              "      <td>House</td>\n",
              "      <td>Issa, Darrell</td>\n",
              "      <td>R</td>\n",
              "      <td>464115018.0</td>\n",
              "    </tr>\n",
              "    <tr>\n",
              "      <th>1</th>\n",
              "      <td>Senate</td>\n",
              "      <td>Kohl, Herb</td>\n",
              "      <td>D</td>\n",
              "      <td>329913009.0</td>\n",
              "    </tr>\n",
              "    <tr>\n",
              "      <th>2</th>\n",
              "      <td>Senate</td>\n",
              "      <td>Warner, Mark</td>\n",
              "      <td>D</td>\n",
              "      <td>257481658.0</td>\n",
              "    </tr>\n",
              "    <tr>\n",
              "      <th>3</th>\n",
              "      <td>House</td>\n",
              "      <td>Polis, Jared</td>\n",
              "      <td>D</td>\n",
              "      <td>198695705.0</td>\n",
              "    </tr>\n",
              "    <tr>\n",
              "      <th>4</th>\n",
              "      <td>House</td>\n",
              "      <td>Delaney, John</td>\n",
              "      <td>D</td>\n",
              "      <td>154601580.0</td>\n",
              "    </tr>\n",
              "  </tbody>\n",
              "</table>\n",
              "</div>"
            ],
            "text/plain": [
              "  chamber    member_name party  net_worth_2012\n",
              "0   House  Issa, Darrell     R     464115018.0\n",
              "1  Senate     Kohl, Herb     D     329913009.0\n",
              "2  Senate   Warner, Mark     D     257481658.0\n",
              "3   House   Polis, Jared     D     198695705.0\n",
              "4   House  Delaney, John     D     154601580.0"
            ]
          },
          "metadata": {
            "tags": []
          },
          "execution_count": 57
        }
      ]
    },
    {
      "cell_type": "code",
      "metadata": {
        "id": "EyW_3rHZjqRO",
        "colab_type": "code",
        "outputId": "09a0f18e-91de-40a9-f5e4-3da4553929d2",
        "colab": {
          "base_uri": "https://localhost:8080/",
          "height": 204
        }
      },
      "source": [
        "pfd_11 = wrangle_pfd_data(pfd_11, 2011)\n",
        "pfd_11.head()"
      ],
      "execution_count": 58,
      "outputs": [
        {
          "output_type": "execute_result",
          "data": {
            "text/html": [
              "<div>\n",
              "<style scoped>\n",
              "    .dataframe tbody tr th:only-of-type {\n",
              "        vertical-align: middle;\n",
              "    }\n",
              "\n",
              "    .dataframe tbody tr th {\n",
              "        vertical-align: top;\n",
              "    }\n",
              "\n",
              "    .dataframe thead th {\n",
              "        text-align: right;\n",
              "    }\n",
              "</style>\n",
              "<table border=\"1\" class=\"dataframe\">\n",
              "  <thead>\n",
              "    <tr style=\"text-align: right;\">\n",
              "      <th></th>\n",
              "      <th>chamber</th>\n",
              "      <th>member_name</th>\n",
              "      <th>party</th>\n",
              "      <th>net_worth_2011</th>\n",
              "    </tr>\n",
              "  </thead>\n",
              "  <tbody>\n",
              "    <tr>\n",
              "      <th>0</th>\n",
              "      <td>House</td>\n",
              "      <td>McCaul, Michael</td>\n",
              "      <td>R</td>\n",
              "      <td>500624461.0</td>\n",
              "    </tr>\n",
              "    <tr>\n",
              "      <th>1</th>\n",
              "      <td>House</td>\n",
              "      <td>Issa, Darrell</td>\n",
              "      <td>R</td>\n",
              "      <td>480325019.0</td>\n",
              "    </tr>\n",
              "    <tr>\n",
              "      <th>2</th>\n",
              "      <td>Senate</td>\n",
              "      <td>Warner, Mark</td>\n",
              "      <td>D</td>\n",
              "      <td>228129609.0</td>\n",
              "    </tr>\n",
              "    <tr>\n",
              "      <th>3</th>\n",
              "      <td>House</td>\n",
              "      <td>Polis, Jared</td>\n",
              "      <td>D</td>\n",
              "      <td>214946679.0</td>\n",
              "    </tr>\n",
              "    <tr>\n",
              "      <th>4</th>\n",
              "      <td>Senate</td>\n",
              "      <td>Kohl, Herb</td>\n",
              "      <td>D</td>\n",
              "      <td>171257008.0</td>\n",
              "    </tr>\n",
              "  </tbody>\n",
              "</table>\n",
              "</div>"
            ],
            "text/plain": [
              "  chamber      member_name party  net_worth_2011\n",
              "0   House  McCaul, Michael     R     500624461.0\n",
              "1   House    Issa, Darrell     R     480325019.0\n",
              "2  Senate     Warner, Mark     D     228129609.0\n",
              "3   House     Polis, Jared     D     214946679.0\n",
              "4  Senate       Kohl, Herb     D     171257008.0"
            ]
          },
          "metadata": {
            "tags": []
          },
          "execution_count": 58
        }
      ]
    },
    {
      "cell_type": "code",
      "metadata": {
        "id": "eb-Fzf6Ykqwb",
        "colab_type": "code",
        "outputId": "7868853d-1ff4-4d20-a3e6-f013ed2dade2",
        "colab": {
          "base_uri": "https://localhost:8080/",
          "height": 204
        }
      },
      "source": [
        "pfd_10 = wrangle_pfd_data(pfd_10, 2010)\n",
        "pfd_10.head()"
      ],
      "execution_count": 59,
      "outputs": [
        {
          "output_type": "execute_result",
          "data": {
            "text/html": [
              "<div>\n",
              "<style scoped>\n",
              "    .dataframe tbody tr th:only-of-type {\n",
              "        vertical-align: middle;\n",
              "    }\n",
              "\n",
              "    .dataframe tbody tr th {\n",
              "        vertical-align: top;\n",
              "    }\n",
              "\n",
              "    .dataframe thead th {\n",
              "        text-align: right;\n",
              "    }\n",
              "</style>\n",
              "<table border=\"1\" class=\"dataframe\">\n",
              "  <thead>\n",
              "    <tr style=\"text-align: right;\">\n",
              "      <th></th>\n",
              "      <th>chamber</th>\n",
              "      <th>member_name</th>\n",
              "      <th>party</th>\n",
              "      <th>net_worth_2010</th>\n",
              "    </tr>\n",
              "  </thead>\n",
              "  <tbody>\n",
              "    <tr>\n",
              "      <th>0</th>\n",
              "      <td>House</td>\n",
              "      <td>Issa, Darrell</td>\n",
              "      <td>R</td>\n",
              "      <td>448125017.0</td>\n",
              "    </tr>\n",
              "    <tr>\n",
              "      <th>1</th>\n",
              "      <td>House</td>\n",
              "      <td>McCaul, Michael</td>\n",
              "      <td>R</td>\n",
              "      <td>380411527.0</td>\n",
              "    </tr>\n",
              "    <tr>\n",
              "      <th>2</th>\n",
              "      <td>House</td>\n",
              "      <td>Harman, Jane</td>\n",
              "      <td>D</td>\n",
              "      <td>326844751.0</td>\n",
              "    </tr>\n",
              "    <tr>\n",
              "      <th>3</th>\n",
              "      <td>Senate</td>\n",
              "      <td>Kerry, John</td>\n",
              "      <td>D</td>\n",
              "      <td>231722794.0</td>\n",
              "    </tr>\n",
              "    <tr>\n",
              "      <th>4</th>\n",
              "      <td>Senate</td>\n",
              "      <td>Warner, Mark</td>\n",
              "      <td>D</td>\n",
              "      <td>192730605.0</td>\n",
              "    </tr>\n",
              "  </tbody>\n",
              "</table>\n",
              "</div>"
            ],
            "text/plain": [
              "  chamber      member_name party  net_worth_2010\n",
              "0   House    Issa, Darrell     R     448125017.0\n",
              "1   House  McCaul, Michael     R     380411527.0\n",
              "2   House     Harman, Jane     D     326844751.0\n",
              "3  Senate      Kerry, John     D     231722794.0\n",
              "4  Senate     Warner, Mark     D     192730605.0"
            ]
          },
          "metadata": {
            "tags": []
          },
          "execution_count": 59
        }
      ]
    },
    {
      "cell_type": "markdown",
      "metadata": {
        "id": "Vu1oja2QlO3A",
        "colab_type": "text"
      },
      "source": [
        "### Merging the PFD data"
      ]
    },
    {
      "cell_type": "code",
      "metadata": {
        "id": "XktwwMUEkuM2",
        "colab_type": "code",
        "colab": {}
      },
      "source": [
        "dfs = [pfd_10,    # list of DataFrames\n",
        "       pfd_11, \n",
        "       pfd_12, \n",
        "       pfd_13,\n",
        "       pfd_14,\n",
        "       pfd_15,\n",
        "       pfd_16]    "
      ],
      "execution_count": 0,
      "outputs": []
    },
    {
      "cell_type": "code",
      "metadata": {
        "id": "hyxfxUV10vTm",
        "colab_type": "code",
        "colab": {}
      },
      "source": [
        "pfd_combined = pd.merge(pfd_10, pfd_11, how='outer')"
      ],
      "execution_count": 0,
      "outputs": []
    },
    {
      "cell_type": "code",
      "metadata": {
        "id": "RNGc1kX1ylq-",
        "colab_type": "code",
        "colab": {}
      },
      "source": [
        "pfd_combined = pd.merge(pfd_combined, pfd_12, how='outer')\n",
        "pfd_combined = pd.merge(pfd_combined, pfd_13, how='outer')\n",
        "pfd_combined = pd.merge(pfd_combined, pfd_14, how='outer')\n",
        "pfd_combined = pd.merge(pfd_combined, pfd_15, how='outer')\n",
        "pfd_combined = pd.merge(pfd_combined, pfd_16, how='outer')"
      ],
      "execution_count": 0,
      "outputs": []
    },
    {
      "cell_type": "code",
      "metadata": {
        "id": "YpfDCq3aGyS8",
        "colab_type": "code",
        "outputId": "f709cb69-3a88-4b3f-f58d-b2c8c83c378e",
        "colab": {
          "base_uri": "https://localhost:8080/",
          "height": 258
        }
      },
      "source": [
        "pfd_combined.head()"
      ],
      "execution_count": 63,
      "outputs": [
        {
          "output_type": "execute_result",
          "data": {
            "text/html": [
              "<div>\n",
              "<style scoped>\n",
              "    .dataframe tbody tr th:only-of-type {\n",
              "        vertical-align: middle;\n",
              "    }\n",
              "\n",
              "    .dataframe tbody tr th {\n",
              "        vertical-align: top;\n",
              "    }\n",
              "\n",
              "    .dataframe thead th {\n",
              "        text-align: right;\n",
              "    }\n",
              "</style>\n",
              "<table border=\"1\" class=\"dataframe\">\n",
              "  <thead>\n",
              "    <tr style=\"text-align: right;\">\n",
              "      <th></th>\n",
              "      <th>chamber</th>\n",
              "      <th>member_name</th>\n",
              "      <th>party</th>\n",
              "      <th>net_worth_2010</th>\n",
              "      <th>net_worth_2011</th>\n",
              "      <th>net_worth_2012</th>\n",
              "      <th>net_worth_2013</th>\n",
              "      <th>net_worth_2014</th>\n",
              "      <th>net_worth_2015</th>\n",
              "      <th>net_worth_2016</th>\n",
              "    </tr>\n",
              "  </thead>\n",
              "  <tbody>\n",
              "    <tr>\n",
              "      <th>0</th>\n",
              "      <td>House</td>\n",
              "      <td>Issa, Darrell</td>\n",
              "      <td>R</td>\n",
              "      <td>448125017.0</td>\n",
              "      <td>480325019.0</td>\n",
              "      <td>464115018.0</td>\n",
              "      <td>448425019.0</td>\n",
              "      <td>436500015.0</td>\n",
              "      <td>330050015.0</td>\n",
              "      <td>323782513.0</td>\n",
              "    </tr>\n",
              "    <tr>\n",
              "      <th>1</th>\n",
              "      <td>House</td>\n",
              "      <td>McCaul, Michael</td>\n",
              "      <td>R</td>\n",
              "      <td>380411527.0</td>\n",
              "      <td>500624461.0</td>\n",
              "      <td>143153910.0</td>\n",
              "      <td>162882467.0</td>\n",
              "      <td>160340931.0</td>\n",
              "      <td>4150505.0</td>\n",
              "      <td>0.0</td>\n",
              "    </tr>\n",
              "    <tr>\n",
              "      <th>2</th>\n",
              "      <td>House</td>\n",
              "      <td>Harman, Jane</td>\n",
              "      <td>D</td>\n",
              "      <td>326844751.0</td>\n",
              "      <td>NaN</td>\n",
              "      <td>NaN</td>\n",
              "      <td>NaN</td>\n",
              "      <td>NaN</td>\n",
              "      <td>NaN</td>\n",
              "      <td>NaN</td>\n",
              "    </tr>\n",
              "    <tr>\n",
              "      <th>3</th>\n",
              "      <td>Senate</td>\n",
              "      <td>Kerry, John</td>\n",
              "      <td>D</td>\n",
              "      <td>231722794.0</td>\n",
              "      <td>NaN</td>\n",
              "      <td>NaN</td>\n",
              "      <td>NaN</td>\n",
              "      <td>NaN</td>\n",
              "      <td>NaN</td>\n",
              "      <td>NaN</td>\n",
              "    </tr>\n",
              "    <tr>\n",
              "      <th>4</th>\n",
              "      <td>Senate</td>\n",
              "      <td>Warner, Mark</td>\n",
              "      <td>D</td>\n",
              "      <td>192730605.0</td>\n",
              "      <td>228129609.0</td>\n",
              "      <td>257481658.0</td>\n",
              "      <td>254176651.0</td>\n",
              "      <td>242889630.0</td>\n",
              "      <td>238157630.0</td>\n",
              "      <td>245680083.0</td>\n",
              "    </tr>\n",
              "  </tbody>\n",
              "</table>\n",
              "</div>"
            ],
            "text/plain": [
              "  chamber      member_name  ... net_worth_2015  net_worth_2016\n",
              "0   House    Issa, Darrell  ...    330050015.0     323782513.0\n",
              "1   House  McCaul, Michael  ...      4150505.0             0.0\n",
              "2   House     Harman, Jane  ...            NaN             NaN\n",
              "3  Senate      Kerry, John  ...            NaN             NaN\n",
              "4  Senate     Warner, Mark  ...    238157630.0     245680083.0\n",
              "\n",
              "[5 rows x 10 columns]"
            ]
          },
          "metadata": {
            "tags": []
          },
          "execution_count": 63
        }
      ]
    },
    {
      "cell_type": "code",
      "metadata": {
        "id": "9Kp6E0XvzdCJ",
        "colab_type": "code",
        "outputId": "2acdf83b-2170-4bdf-8933-e0fcd3be844f",
        "colab": {
          "base_uri": "https://localhost:8080/",
          "height": 275
        }
      },
      "source": [
        "def calc_yoy_increases(df):\n",
        "  net_gain_11 =  df['net_worth_2011'] - df['net_worth_2010']\n",
        "  df['2011_net_increase'] = (net_gain_11 / df['net_worth_2010']) * 100\n",
        "  net_gain_12 =  df['net_worth_2012'] - df['net_worth_2011']\n",
        "  df['2012_net_increase'] = (net_gain_12 / df['net_worth_2011']) * 100\n",
        "  net_gain_13 =  df['net_worth_2013'] - df['net_worth_2012']\n",
        "  df['2013_net_increase'] = (net_gain_13 / df['net_worth_2012']) * 100\n",
        "  net_gain_14 =  df['net_worth_2014'] - df['net_worth_2013']\n",
        "  df['2014_net_increase'] = (net_gain_14 / df['net_worth_2013']) * 100\n",
        "  net_gain_15 =  df['net_worth_2015'] - df['net_worth_2014']\n",
        "  df['2015_net_increase'] = (net_gain_15 / df['net_worth_2014']) * 100\n",
        "  net_gain_16 =  df['net_worth_2016'] - df['net_worth_2015']\n",
        "  df['2016_net_increase'] = (net_gain_16 / df['net_worth_2015']) * 100\n",
        "\n",
        "  return df\n",
        "\n",
        "calc_yoy_increases(pfd_combined)\n",
        "print(pfd_combined.shape)\n",
        "pfd_combined.head()\n"
      ],
      "execution_count": 64,
      "outputs": [
        {
          "output_type": "stream",
          "text": [
            "(997, 16)\n"
          ],
          "name": "stdout"
        },
        {
          "output_type": "execute_result",
          "data": {
            "text/html": [
              "<div>\n",
              "<style scoped>\n",
              "    .dataframe tbody tr th:only-of-type {\n",
              "        vertical-align: middle;\n",
              "    }\n",
              "\n",
              "    .dataframe tbody tr th {\n",
              "        vertical-align: top;\n",
              "    }\n",
              "\n",
              "    .dataframe thead th {\n",
              "        text-align: right;\n",
              "    }\n",
              "</style>\n",
              "<table border=\"1\" class=\"dataframe\">\n",
              "  <thead>\n",
              "    <tr style=\"text-align: right;\">\n",
              "      <th></th>\n",
              "      <th>chamber</th>\n",
              "      <th>member_name</th>\n",
              "      <th>party</th>\n",
              "      <th>net_worth_2010</th>\n",
              "      <th>net_worth_2011</th>\n",
              "      <th>net_worth_2012</th>\n",
              "      <th>net_worth_2013</th>\n",
              "      <th>net_worth_2014</th>\n",
              "      <th>net_worth_2015</th>\n",
              "      <th>net_worth_2016</th>\n",
              "      <th>2011_net_increase</th>\n",
              "      <th>2012_net_increase</th>\n",
              "      <th>2013_net_increase</th>\n",
              "      <th>2014_net_increase</th>\n",
              "      <th>2015_net_increase</th>\n",
              "      <th>2016_net_increase</th>\n",
              "    </tr>\n",
              "  </thead>\n",
              "  <tbody>\n",
              "    <tr>\n",
              "      <th>0</th>\n",
              "      <td>House</td>\n",
              "      <td>Issa, Darrell</td>\n",
              "      <td>R</td>\n",
              "      <td>448125017.0</td>\n",
              "      <td>480325019.0</td>\n",
              "      <td>464115018.0</td>\n",
              "      <td>448425019.0</td>\n",
              "      <td>436500015.0</td>\n",
              "      <td>330050015.0</td>\n",
              "      <td>323782513.0</td>\n",
              "      <td>7.185495</td>\n",
              "      <td>-3.374798</td>\n",
              "      <td>-3.380627</td>\n",
              "      <td>-2.659308</td>\n",
              "      <td>-24.38717</td>\n",
              "      <td>-1.898955</td>\n",
              "    </tr>\n",
              "    <tr>\n",
              "      <th>1</th>\n",
              "      <td>House</td>\n",
              "      <td>McCaul, Michael</td>\n",
              "      <td>R</td>\n",
              "      <td>380411527.0</td>\n",
              "      <td>500624461.0</td>\n",
              "      <td>143153910.0</td>\n",
              "      <td>162882467.0</td>\n",
              "      <td>160340931.0</td>\n",
              "      <td>4150505.0</td>\n",
              "      <td>0.0</td>\n",
              "      <td>31.600760</td>\n",
              "      <td>-71.404931</td>\n",
              "      <td>13.781361</td>\n",
              "      <td>-1.560350</td>\n",
              "      <td>-97.41145</td>\n",
              "      <td>-100.000000</td>\n",
              "    </tr>\n",
              "    <tr>\n",
              "      <th>2</th>\n",
              "      <td>House</td>\n",
              "      <td>Harman, Jane</td>\n",
              "      <td>D</td>\n",
              "      <td>326844751.0</td>\n",
              "      <td>NaN</td>\n",
              "      <td>NaN</td>\n",
              "      <td>NaN</td>\n",
              "      <td>NaN</td>\n",
              "      <td>NaN</td>\n",
              "      <td>NaN</td>\n",
              "      <td>NaN</td>\n",
              "      <td>NaN</td>\n",
              "      <td>NaN</td>\n",
              "      <td>NaN</td>\n",
              "      <td>NaN</td>\n",
              "      <td>NaN</td>\n",
              "    </tr>\n",
              "    <tr>\n",
              "      <th>3</th>\n",
              "      <td>Senate</td>\n",
              "      <td>Kerry, John</td>\n",
              "      <td>D</td>\n",
              "      <td>231722794.0</td>\n",
              "      <td>NaN</td>\n",
              "      <td>NaN</td>\n",
              "      <td>NaN</td>\n",
              "      <td>NaN</td>\n",
              "      <td>NaN</td>\n",
              "      <td>NaN</td>\n",
              "      <td>NaN</td>\n",
              "      <td>NaN</td>\n",
              "      <td>NaN</td>\n",
              "      <td>NaN</td>\n",
              "      <td>NaN</td>\n",
              "      <td>NaN</td>\n",
              "    </tr>\n",
              "    <tr>\n",
              "      <th>4</th>\n",
              "      <td>Senate</td>\n",
              "      <td>Warner, Mark</td>\n",
              "      <td>D</td>\n",
              "      <td>192730605.0</td>\n",
              "      <td>228129609.0</td>\n",
              "      <td>257481658.0</td>\n",
              "      <td>254176651.0</td>\n",
              "      <td>242889630.0</td>\n",
              "      <td>238157630.0</td>\n",
              "      <td>245680083.0</td>\n",
              "      <td>18.367090</td>\n",
              "      <td>12.866392</td>\n",
              "      <td>-1.283589</td>\n",
              "      <td>-4.440621</td>\n",
              "      <td>-1.94821</td>\n",
              "      <td>3.158603</td>\n",
              "    </tr>\n",
              "  </tbody>\n",
              "</table>\n",
              "</div>"
            ],
            "text/plain": [
              "  chamber      member_name  ... 2015_net_increase  2016_net_increase\n",
              "0   House    Issa, Darrell  ...         -24.38717          -1.898955\n",
              "1   House  McCaul, Michael  ...         -97.41145        -100.000000\n",
              "2   House     Harman, Jane  ...               NaN                NaN\n",
              "3  Senate      Kerry, John  ...               NaN                NaN\n",
              "4  Senate     Warner, Mark  ...          -1.94821           3.158603\n",
              "\n",
              "[5 rows x 16 columns]"
            ]
          },
          "metadata": {
            "tags": []
          },
          "execution_count": 64
        }
      ]
    },
    {
      "cell_type": "code",
      "metadata": {
        "id": "cr7cD_KiI5il",
        "colab_type": "code",
        "colab": {}
      },
      "source": [
        "combined_cols = pfd_combined.columns.tolist()"
      ],
      "execution_count": 0,
      "outputs": []
    },
    {
      "cell_type": "code",
      "metadata": {
        "id": "XjbBg6qYJCF2",
        "colab_type": "code",
        "colab": {}
      },
      "source": [
        "pfd_combined = pfd_combined[[combined_cols[0],      # Reorganizing the DataFrame\n",
        "                             combined_cols[1],\n",
        "                             combined_cols[2],\n",
        "                             combined_cols[3],\n",
        "                             combined_cols[4],\n",
        "                             combined_cols[-6],\n",
        "                             combined_cols[5],\n",
        "                             combined_cols[-5],\n",
        "                             combined_cols[6],\n",
        "                             combined_cols[-4],\n",
        "                             combined_cols[7],\n",
        "                             combined_cols[-3],\n",
        "                             combined_cols[8],\n",
        "                             combined_cols[-2],\n",
        "                             combined_cols[9],\n",
        "                             combined_cols[-1]]]"
      ],
      "execution_count": 0,
      "outputs": []
    },
    {
      "cell_type": "code",
      "metadata": {
        "id": "vytRHCqoJ_bg",
        "colab_type": "code",
        "outputId": "9c222de0-886e-45d1-b75a-79a77ec97b0c",
        "colab": {
          "base_uri": "https://localhost:8080/",
          "height": 258
        }
      },
      "source": [
        "pfd_combined.head()"
      ],
      "execution_count": 67,
      "outputs": [
        {
          "output_type": "execute_result",
          "data": {
            "text/html": [
              "<div>\n",
              "<style scoped>\n",
              "    .dataframe tbody tr th:only-of-type {\n",
              "        vertical-align: middle;\n",
              "    }\n",
              "\n",
              "    .dataframe tbody tr th {\n",
              "        vertical-align: top;\n",
              "    }\n",
              "\n",
              "    .dataframe thead th {\n",
              "        text-align: right;\n",
              "    }\n",
              "</style>\n",
              "<table border=\"1\" class=\"dataframe\">\n",
              "  <thead>\n",
              "    <tr style=\"text-align: right;\">\n",
              "      <th></th>\n",
              "      <th>chamber</th>\n",
              "      <th>member_name</th>\n",
              "      <th>party</th>\n",
              "      <th>net_worth_2010</th>\n",
              "      <th>net_worth_2011</th>\n",
              "      <th>2011_net_increase</th>\n",
              "      <th>net_worth_2012</th>\n",
              "      <th>2012_net_increase</th>\n",
              "      <th>net_worth_2013</th>\n",
              "      <th>2013_net_increase</th>\n",
              "      <th>net_worth_2014</th>\n",
              "      <th>2014_net_increase</th>\n",
              "      <th>net_worth_2015</th>\n",
              "      <th>2015_net_increase</th>\n",
              "      <th>net_worth_2016</th>\n",
              "      <th>2016_net_increase</th>\n",
              "    </tr>\n",
              "  </thead>\n",
              "  <tbody>\n",
              "    <tr>\n",
              "      <th>0</th>\n",
              "      <td>House</td>\n",
              "      <td>Issa, Darrell</td>\n",
              "      <td>R</td>\n",
              "      <td>448125017.0</td>\n",
              "      <td>480325019.0</td>\n",
              "      <td>7.185495</td>\n",
              "      <td>464115018.0</td>\n",
              "      <td>-3.374798</td>\n",
              "      <td>448425019.0</td>\n",
              "      <td>-3.380627</td>\n",
              "      <td>436500015.0</td>\n",
              "      <td>-2.659308</td>\n",
              "      <td>330050015.0</td>\n",
              "      <td>-24.38717</td>\n",
              "      <td>323782513.0</td>\n",
              "      <td>-1.898955</td>\n",
              "    </tr>\n",
              "    <tr>\n",
              "      <th>1</th>\n",
              "      <td>House</td>\n",
              "      <td>McCaul, Michael</td>\n",
              "      <td>R</td>\n",
              "      <td>380411527.0</td>\n",
              "      <td>500624461.0</td>\n",
              "      <td>31.600760</td>\n",
              "      <td>143153910.0</td>\n",
              "      <td>-71.404931</td>\n",
              "      <td>162882467.0</td>\n",
              "      <td>13.781361</td>\n",
              "      <td>160340931.0</td>\n",
              "      <td>-1.560350</td>\n",
              "      <td>4150505.0</td>\n",
              "      <td>-97.41145</td>\n",
              "      <td>0.0</td>\n",
              "      <td>-100.000000</td>\n",
              "    </tr>\n",
              "    <tr>\n",
              "      <th>2</th>\n",
              "      <td>House</td>\n",
              "      <td>Harman, Jane</td>\n",
              "      <td>D</td>\n",
              "      <td>326844751.0</td>\n",
              "      <td>NaN</td>\n",
              "      <td>NaN</td>\n",
              "      <td>NaN</td>\n",
              "      <td>NaN</td>\n",
              "      <td>NaN</td>\n",
              "      <td>NaN</td>\n",
              "      <td>NaN</td>\n",
              "      <td>NaN</td>\n",
              "      <td>NaN</td>\n",
              "      <td>NaN</td>\n",
              "      <td>NaN</td>\n",
              "      <td>NaN</td>\n",
              "    </tr>\n",
              "    <tr>\n",
              "      <th>3</th>\n",
              "      <td>Senate</td>\n",
              "      <td>Kerry, John</td>\n",
              "      <td>D</td>\n",
              "      <td>231722794.0</td>\n",
              "      <td>NaN</td>\n",
              "      <td>NaN</td>\n",
              "      <td>NaN</td>\n",
              "      <td>NaN</td>\n",
              "      <td>NaN</td>\n",
              "      <td>NaN</td>\n",
              "      <td>NaN</td>\n",
              "      <td>NaN</td>\n",
              "      <td>NaN</td>\n",
              "      <td>NaN</td>\n",
              "      <td>NaN</td>\n",
              "      <td>NaN</td>\n",
              "    </tr>\n",
              "    <tr>\n",
              "      <th>4</th>\n",
              "      <td>Senate</td>\n",
              "      <td>Warner, Mark</td>\n",
              "      <td>D</td>\n",
              "      <td>192730605.0</td>\n",
              "      <td>228129609.0</td>\n",
              "      <td>18.367090</td>\n",
              "      <td>257481658.0</td>\n",
              "      <td>12.866392</td>\n",
              "      <td>254176651.0</td>\n",
              "      <td>-1.283589</td>\n",
              "      <td>242889630.0</td>\n",
              "      <td>-4.440621</td>\n",
              "      <td>238157630.0</td>\n",
              "      <td>-1.94821</td>\n",
              "      <td>245680083.0</td>\n",
              "      <td>3.158603</td>\n",
              "    </tr>\n",
              "  </tbody>\n",
              "</table>\n",
              "</div>"
            ],
            "text/plain": [
              "  chamber      member_name  ... net_worth_2016  2016_net_increase\n",
              "0   House    Issa, Darrell  ...    323782513.0          -1.898955\n",
              "1   House  McCaul, Michael  ...            0.0        -100.000000\n",
              "2   House     Harman, Jane  ...            NaN                NaN\n",
              "3  Senate      Kerry, John  ...            NaN                NaN\n",
              "4  Senate     Warner, Mark  ...    245680083.0           3.158603\n",
              "\n",
              "[5 rows x 16 columns]"
            ]
          },
          "metadata": {
            "tags": []
          },
          "execution_count": 67
        }
      ]
    },
    {
      "cell_type": "code",
      "metadata": {
        "id": "Z5ud7GPGHIJv",
        "colab_type": "code",
        "outputId": "d8808832-01da-461f-abf9-b48731900361",
        "colab": {
          "base_uri": "https://localhost:8080/",
          "height": 275
        }
      },
      "source": [
        "pfd_combined.tail()"
      ],
      "execution_count": 68,
      "outputs": [
        {
          "output_type": "execute_result",
          "data": {
            "text/html": [
              "<div>\n",
              "<style scoped>\n",
              "    .dataframe tbody tr th:only-of-type {\n",
              "        vertical-align: middle;\n",
              "    }\n",
              "\n",
              "    .dataframe tbody tr th {\n",
              "        vertical-align: top;\n",
              "    }\n",
              "\n",
              "    .dataframe thead th {\n",
              "        text-align: right;\n",
              "    }\n",
              "</style>\n",
              "<table border=\"1\" class=\"dataframe\">\n",
              "  <thead>\n",
              "    <tr style=\"text-align: right;\">\n",
              "      <th></th>\n",
              "      <th>chamber</th>\n",
              "      <th>member_name</th>\n",
              "      <th>party</th>\n",
              "      <th>net_worth_2010</th>\n",
              "      <th>net_worth_2011</th>\n",
              "      <th>2011_net_increase</th>\n",
              "      <th>net_worth_2012</th>\n",
              "      <th>2012_net_increase</th>\n",
              "      <th>net_worth_2013</th>\n",
              "      <th>2013_net_increase</th>\n",
              "      <th>net_worth_2014</th>\n",
              "      <th>2014_net_increase</th>\n",
              "      <th>net_worth_2015</th>\n",
              "      <th>2015_net_increase</th>\n",
              "      <th>net_worth_2016</th>\n",
              "      <th>2016_net_increase</th>\n",
              "    </tr>\n",
              "  </thead>\n",
              "  <tbody>\n",
              "    <tr>\n",
              "      <th>992</th>\n",
              "      <td>House</td>\n",
              "      <td>Brown, Anthony</td>\n",
              "      <td>D</td>\n",
              "      <td>NaN</td>\n",
              "      <td>NaN</td>\n",
              "      <td>NaN</td>\n",
              "      <td>NaN</td>\n",
              "      <td>NaN</td>\n",
              "      <td>NaN</td>\n",
              "      <td>NaN</td>\n",
              "      <td>NaN</td>\n",
              "      <td>NaN</td>\n",
              "      <td>NaN</td>\n",
              "      <td>NaN</td>\n",
              "      <td>-226998.0</td>\n",
              "      <td>NaN</td>\n",
              "    </tr>\n",
              "    <tr>\n",
              "      <th>993</th>\n",
              "      <td>House</td>\n",
              "      <td>Garrett, Tom</td>\n",
              "      <td>R</td>\n",
              "      <td>NaN</td>\n",
              "      <td>NaN</td>\n",
              "      <td>NaN</td>\n",
              "      <td>NaN</td>\n",
              "      <td>NaN</td>\n",
              "      <td>NaN</td>\n",
              "      <td>NaN</td>\n",
              "      <td>NaN</td>\n",
              "      <td>NaN</td>\n",
              "      <td>NaN</td>\n",
              "      <td>NaN</td>\n",
              "      <td>-265001.0</td>\n",
              "      <td>NaN</td>\n",
              "    </tr>\n",
              "    <tr>\n",
              "      <th>994</th>\n",
              "      <td>House</td>\n",
              "      <td>Carbajal, Salud</td>\n",
              "      <td>D</td>\n",
              "      <td>NaN</td>\n",
              "      <td>NaN</td>\n",
              "      <td>NaN</td>\n",
              "      <td>NaN</td>\n",
              "      <td>NaN</td>\n",
              "      <td>NaN</td>\n",
              "      <td>NaN</td>\n",
              "      <td>NaN</td>\n",
              "      <td>NaN</td>\n",
              "      <td>NaN</td>\n",
              "      <td>NaN</td>\n",
              "      <td>-361497.0</td>\n",
              "      <td>NaN</td>\n",
              "    </tr>\n",
              "    <tr>\n",
              "      <th>995</th>\n",
              "      <td>House</td>\n",
              "      <td>Panetta, Jimmy</td>\n",
              "      <td>D</td>\n",
              "      <td>NaN</td>\n",
              "      <td>NaN</td>\n",
              "      <td>NaN</td>\n",
              "      <td>NaN</td>\n",
              "      <td>NaN</td>\n",
              "      <td>NaN</td>\n",
              "      <td>NaN</td>\n",
              "      <td>NaN</td>\n",
              "      <td>NaN</td>\n",
              "      <td>NaN</td>\n",
              "      <td>NaN</td>\n",
              "      <td>-533988.0</td>\n",
              "      <td>NaN</td>\n",
              "    </tr>\n",
              "    <tr>\n",
              "      <th>996</th>\n",
              "      <td>House</td>\n",
              "      <td>Demings, Val</td>\n",
              "      <td>D</td>\n",
              "      <td>NaN</td>\n",
              "      <td>NaN</td>\n",
              "      <td>NaN</td>\n",
              "      <td>NaN</td>\n",
              "      <td>NaN</td>\n",
              "      <td>NaN</td>\n",
              "      <td>NaN</td>\n",
              "      <td>NaN</td>\n",
              "      <td>NaN</td>\n",
              "      <td>NaN</td>\n",
              "      <td>NaN</td>\n",
              "      <td>-2175997.0</td>\n",
              "      <td>NaN</td>\n",
              "    </tr>\n",
              "  </tbody>\n",
              "</table>\n",
              "</div>"
            ],
            "text/plain": [
              "    chamber      member_name  ... net_worth_2016  2016_net_increase\n",
              "992   House   Brown, Anthony  ...      -226998.0                NaN\n",
              "993   House     Garrett, Tom  ...      -265001.0                NaN\n",
              "994   House  Carbajal, Salud  ...      -361497.0                NaN\n",
              "995   House   Panetta, Jimmy  ...      -533988.0                NaN\n",
              "996   House     Demings, Val  ...     -2175997.0                NaN\n",
              "\n",
              "[5 rows x 16 columns]"
            ]
          },
          "metadata": {
            "tags": []
          },
          "execution_count": 68
        }
      ]
    },
    {
      "cell_type": "markdown",
      "metadata": {
        "id": "F-aAWDWsIM3f",
        "colab_type": "text"
      },
      "source": [
        "## Financial Contributions Datasets"
      ]
    },
    {
      "cell_type": "markdown",
      "metadata": {
        "id": "oVBjWhLFITIb",
        "colab_type": "text"
      },
      "source": [
        "### Loading the Datasets"
      ]
    },
    {
      "cell_type": "code",
      "metadata": {
        "id": "V2Kpt3hpIScx",
        "colab_type": "code",
        "colab": {}
      },
      "source": [
        "def10 = pd.read_csv('https://raw.githubusercontent.com/BrianThomasRoss/Brian_Ross_DataStorytellingProject/master/raw_csv_files/Contributions/2010_Defense_Contribs%20-%20Sheet1.csv?token=ALRVPBVPSJCMTYKZS3BZPUK5WSEJ4')\n",
        "def12 = pd.read_csv('https://raw.githubusercontent.com/BrianThomasRoss/Brian_Ross_DataStorytellingProject/master/raw_csv_files/Contributions/2012_Defense_Contribs%20-%20Sheet1.csv?token=ALRVPBQIHYJXEUHD7KLV7S25WTAS6')\n",
        "def14 = pd.read_csv('https://raw.githubusercontent.com/BrianThomasRoss/Brian_Ross_DataStorytellingProject/master/raw_csv_files/Contributions/2014_Defense_Contribs%20-%20Sheet1.csv?token=ALRVPBXVQEIK6MBJBA7ZU525WTBDE')\n",
        "def16 = pd.read_csv('https://raw.githubusercontent.com/BrianThomasRoss/Brian_Ross_DataStorytellingProject/master/raw_csv_files/Contributions/2016_Defense_Contribs%20-%20Sheet1.csv?token=ALRVPBU7JUADUMZDAMVJP5C5WTEDC')\n",
        "\n",
        "eng10 = pd.read_csv('https://raw.githubusercontent.com/BrianThomasRoss/Brian_Ross_DataStorytellingProject/master/raw_csv_files/Contributions/2010_Energy_Contribs%20-%20Sheet1.csv?token=ALRVPBVKOCSXZG5FRWLYKE25WS64Q')\n",
        "eng12 = pd.read_csv('https://raw.githubusercontent.com/BrianThomasRoss/Brian_Ross_DataStorytellingProject/master/raw_csv_files/Contributions/2012_Energy_Contribs%20-%20Sheet1.csv?token=ALRVPBTCSUJHLWWDTRI6VMC5WTAUY')\n",
        "eng14 = pd.read_csv('https://raw.githubusercontent.com/BrianThomasRoss/Brian_Ross_DataStorytellingProject/master/raw_csv_files/Contributions/2014_Energy_Contribs%20-%20Sheet1.csv?token=ALRVPBS22JPKZHPLZIWQ2X25WTBIA')\n",
        "eng16 = pd.read_csv('https://raw.githubusercontent.com/BrianThomasRoss/Brian_Ross_DataStorytellingProject/master/raw_csv_files/Contributions/2016_Energy_Contribs%20-%20Sheet1.csv?token=ALRVPBWYEZCM6AS3DF6XQLS5WTBJ2')\n",
        "\n",
        "comm10 = pd.read_csv('https://raw.githubusercontent.com/BrianThomasRoss/Brian_Ross_DataStorytellingProject/master/raw_csv_files/Contributions/2010_TechComms_Contribs%20-%20Sheet1.csv?token=ALRVPBXIW64D7QXVXKVY56K5WTAPG')\n",
        "comm12 = pd.read_csv('https://raw.githubusercontent.com/BrianThomasRoss/Brian_Ross_DataStorytellingProject/master/raw_csv_files/Contributions/2012_TechComms_Contribs%20-%20Sheet1.csv?token=ALRVPBW2D2LGT2UFSDPXHGK5WTA7G')\n",
        "comm14 = pd.read_csv('https://raw.githubusercontent.com/BrianThomasRoss/Brian_Ross_DataStorytellingProject/master/raw_csv_files/Contributions/2014_TechComms_Contribs%20-%20Sheet1.csv?token=ALRVPBUNMTQST4W5PJU6JDS5WTBMI')\n",
        "comm16 = pd.read_csv('https://raw.githubusercontent.com/BrianThomasRoss/Brian_Ross_DataStorytellingProject/master/raw_csv_files/Contributions/2016_TechComms_Contribs%20-%20Sheet1.csv?token=ALRVPBWZQ7FNUHH7OIEYA425WTBPI')\n",
        "\n",
        "health10 = pd.read_csv('https://raw.githubusercontent.com/BrianThomasRoss/Brian_Ross_DataStorytellingProject/master/raw_csv_files/Contributions/2010_Health_Contribs%20-%20Sheet1.csv?token=ALRVPBQN7ZSXQEOAPURJKW25WTAMS')\n",
        "health12 = pd.read_csv('https://raw.githubusercontent.com/BrianThomasRoss/Brian_Ross_DataStorytellingProject/master/raw_csv_files/Contributions/2012_Health_Contribs%20-%20Sheet1.csv?token=ALRVPBX74ORLB4AVSQB2BTS5WTA4K')\n",
        "health14 = pd.read_csv('https://raw.githubusercontent.com/BrianThomasRoss/Brian_Ross_DataStorytellingProject/master/raw_csv_files/Contributions/2014_Health_Contribs%20-%20Sheet1.csv?token=ALRVPBRNW3Y2VL7KZEOFLFK5WTBTC')\n",
        "health16 = pd.read_csv('https://raw.githubusercontent.com/BrianThomasRoss/Brian_Ross_DataStorytellingProject/master/raw_csv_files/Contributions/2016_Health_Contribs%20-%20Sheet1.csv?token=ALRVPBTLWETXSM6PIS75GAK5WTBW2')\n",
        "\n",
        "fin10 = pd.read_csv('https://raw.githubusercontent.com/BrianThomasRoss/Brian_Ross_DataStorytellingProject/master/raw_csv_files/Contributions/2010_Finance_Contribs%20-%20Sheet1.csv?token=ALRVPBTTPFUXNRIMU6DRDIS5WS674')\n",
        "fin12 = pd.read_csv('https://raw.githubusercontent.com/BrianThomasRoss/Brian_Ross_DataStorytellingProject/master/raw_csv_files/Contributions/2012_Finance_Contribs%20-%20Sheet1.csv?token=ALRVPBTKH4S7LWP2H7X26FS5WTAW2')\n",
        "fin14 = pd.read_csv('https://raw.githubusercontent.com/BrianThomasRoss/Brian_Ross_DataStorytellingProject/master/raw_csv_files/Contributions/2014_Finance_Contribs%20-%20Sheet1.csv?token=ALRVPBU2ZSYNZQKS73DR7RC5WTBZG')\n",
        "fin16 = pd.read_csv('https://raw.githubusercontent.com/BrianThomasRoss/Brian_Ross_DataStorytellingProject/master/raw_csv_files/Contributions/2016_Finance_Contribs%20-%20Sheet1.csv?token=ALRVPBXNVBUYY4Q45KA5MN25WTB4A')"
      ],
      "execution_count": 0,
      "outputs": []
    },
    {
      "cell_type": "markdown",
      "metadata": {
        "id": "dKCJZscuIAex",
        "colab_type": "text"
      },
      "source": [
        "### Wrangling"
      ]
    },
    {
      "cell_type": "code",
      "metadata": {
        "id": "lpC0SBEpKceU",
        "colab_type": "code",
        "colab": {}
      },
      "source": [
        "friendliness_labels = [1, 2, 3, 4, 5]\n",
        "\n",
        "def get_first_name_contribs(fullname):\n",
        "  first_name = fullname.split(\", \")[1]\n",
        "  first_name = first_name.split(\" \")[0]\n",
        "  return first_name\n",
        "\n",
        "def get_last_name_contribs(fullname):\n",
        "  last_name = fullname.split(\",\")[0]\n",
        "  return last_name\n",
        "\n",
        "def to_last_first_contribs(fullname):\n",
        "  \"\"\" Changes the format of the candidate name to match that of the PFD DataFrames\"\"\"\n",
        "  last_first = get_last_name_contribs(fullname) + \", \" + get_first_name_contribs(fullname)\n",
        "  return last_first\n",
        "\n",
        "contribs_dfs = [def10,\n",
        "                def12,\n",
        "                def14,\n",
        "                def16,\n",
        "                eng10,\n",
        "                eng12,\n",
        "                eng14,\n",
        "                eng16,\n",
        "                fin10,\n",
        "                fin12,\n",
        "                fin14,\n",
        "                fin16,\n",
        "                comm10,\n",
        "                comm12,\n",
        "                comm14,\n",
        "                comm16,\n",
        "                health10,\n",
        "                health12,\n",
        "                health14,\n",
        "                health16]"
      ],
      "execution_count": 0,
      "outputs": []
    },
    {
      "cell_type": "code",
      "metadata": {
        "id": "Gqw9vccNMtX-",
        "colab_type": "code",
        "colab": {}
      },
      "source": [
        "def wrangle_contribs(df, year, sector):\n",
        "  df['member_name'] = df['Candidate'].apply(to_last_first_contribs)\n",
        "  df['Amount'] = df['Amount'].apply(to_float)\n",
        "  df[f'{sector}_friendliness_rating_{year}'] = pd.qcut(df['Amount'],\n",
        "                                            5, labels=friendliness_labels)\n",
        "  cols = df.columns.tolist()\n",
        "  df = df[[cols[2], cols[3]]]\n",
        "  return df\n"
      ],
      "execution_count": 0,
      "outputs": []
    },
    {
      "cell_type": "code",
      "metadata": {
        "id": "DVUFWbjXJ6Ii",
        "colab_type": "code",
        "outputId": "73fe882b-4f28-4178-fb12-8b27e8f24a15",
        "colab": {
          "base_uri": "https://localhost:8080/",
          "height": 204
        }
      },
      "source": [
        "def10.head()"
      ],
      "execution_count": 72,
      "outputs": [
        {
          "output_type": "execute_result",
          "data": {
            "text/html": [
              "<div>\n",
              "<style scoped>\n",
              "    .dataframe tbody tr th:only-of-type {\n",
              "        vertical-align: middle;\n",
              "    }\n",
              "\n",
              "    .dataframe tbody tr th {\n",
              "        vertical-align: top;\n",
              "    }\n",
              "\n",
              "    .dataframe thead th {\n",
              "        text-align: right;\n",
              "    }\n",
              "</style>\n",
              "<table border=\"1\" class=\"dataframe\">\n",
              "  <thead>\n",
              "    <tr style=\"text-align: right;\">\n",
              "      <th></th>\n",
              "      <th>Candidate</th>\n",
              "      <th>Amount</th>\n",
              "    </tr>\n",
              "  </thead>\n",
              "  <tbody>\n",
              "    <tr>\n",
              "      <th>0</th>\n",
              "      <td>Shelby, Richard C (R-AL)</td>\n",
              "      <td>$319,850</td>\n",
              "    </tr>\n",
              "    <tr>\n",
              "      <th>1</th>\n",
              "      <td>Inouye, Daniel K (D-HI)</td>\n",
              "      <td>$260,300</td>\n",
              "    </tr>\n",
              "    <tr>\n",
              "      <th>2</th>\n",
              "      <td>Murray, Patty (D-WA)</td>\n",
              "      <td>$207,110</td>\n",
              "    </tr>\n",
              "    <tr>\n",
              "      <th>3</th>\n",
              "      <td>McCain, John (R-AZ)</td>\n",
              "      <td>$174,300</td>\n",
              "    </tr>\n",
              "    <tr>\n",
              "      <th>4</th>\n",
              "      <td>Burr, Richard (R-NC)</td>\n",
              "      <td>$173,597</td>\n",
              "    </tr>\n",
              "  </tbody>\n",
              "</table>\n",
              "</div>"
            ],
            "text/plain": [
              "                  Candidate    Amount\n",
              "0  Shelby, Richard C (R-AL)  $319,850\n",
              "1   Inouye, Daniel K (D-HI)  $260,300\n",
              "2      Murray, Patty (D-WA)  $207,110\n",
              "3       McCain, John (R-AZ)  $174,300\n",
              "4      Burr, Richard (R-NC)  $173,597"
            ]
          },
          "metadata": {
            "tags": []
          },
          "execution_count": 72
        }
      ]
    },
    {
      "cell_type": "markdown",
      "metadata": {
        "id": "3ImAM1xzSpPd",
        "colab_type": "text"
      },
      "source": [
        "#### Defense"
      ]
    },
    {
      "cell_type": "code",
      "metadata": {
        "id": "zuIppFBVP0Yz",
        "colab_type": "code",
        "colab": {}
      },
      "source": [
        "def10 = wrangle_contribs(def10, 2010, sector='defense')\n",
        "def12 = wrangle_contribs(def12, 2012, sector='defense')\n",
        "def14 = wrangle_contribs(def14, 2014, sector='defense')\n",
        "def16 = wrangle_contribs(def16, 2016, sector='defense')"
      ],
      "execution_count": 0,
      "outputs": []
    },
    {
      "cell_type": "code",
      "metadata": {
        "id": "jApDdvNXWEZf",
        "colab_type": "code",
        "colab": {}
      },
      "source": [
        "contribs_combined = pd.merge(def10, \n",
        "                             def12.drop_duplicates(),\n",
        "                             on=['member_name'], how='outer')\n",
        "contribs_combined = pd.merge(contribs_combined,\n",
        "                             def14.drop_duplicates(),\n",
        "                             on=['member_name'], how='outer')\n",
        "contribs_combined = pd.merge(contribs_combined,\n",
        "                             def16.drop_duplicates(),\n",
        "                             on=['member_name'], how='outer')"
      ],
      "execution_count": 0,
      "outputs": []
    },
    {
      "cell_type": "code",
      "metadata": {
        "colab_type": "code",
        "outputId": "571b9263-5522-4e81-b33f-9e3b8c075ce3",
        "id": "UhN7IznLSguB",
        "colab": {
          "base_uri": "https://localhost:8080/",
          "height": 34
        }
      },
      "source": [
        "contribs_combined.shape"
      ],
      "execution_count": 75,
      "outputs": [
        {
          "output_type": "execute_result",
          "data": {
            "text/plain": [
              "(785, 5)"
            ]
          },
          "metadata": {
            "tags": []
          },
          "execution_count": 75
        }
      ]
    },
    {
      "cell_type": "markdown",
      "metadata": {
        "id": "qlXhofKgSrpN",
        "colab_type": "text"
      },
      "source": [
        "#### Energy"
      ]
    },
    {
      "cell_type": "code",
      "metadata": {
        "id": "BFZ19JqcGPwT",
        "colab_type": "code",
        "colab": {}
      },
      "source": [
        "eng10 = wrangle_contribs(eng10, 2010, sector='energy')\n",
        "eng12 = wrangle_contribs(eng12, 2012, sector='energy')\n",
        "eng14 = wrangle_contribs(eng14, 2014, sector='energy')\n",
        "eng16 = wrangle_contribs(eng16, 2016, sector='energy')"
      ],
      "execution_count": 0,
      "outputs": []
    },
    {
      "cell_type": "code",
      "metadata": {
        "id": "JYlPjU5gWoYH",
        "colab_type": "code",
        "colab": {}
      },
      "source": [
        "contribs_combined = pd.merge(contribs_combined,\n",
        "                             eng10.drop_duplicates(),\n",
        "                             on=['member_name'], how='outer')\n",
        "contribs_combined = pd.merge(contribs_combined, \n",
        "                             eng12.drop_duplicates(),\n",
        "                             on=['member_name'], how='outer')\n",
        "contribs_combined = pd.merge(contribs_combined,\n",
        "                             eng14.drop_duplicates(),\n",
        "                             on=['member_name'], how='outer')\n",
        "contribs_combined = pd.merge(contribs_combined,\n",
        "                             eng16.drop_duplicates(),\n",
        "                             on=['member_name'], how='outer')"
      ],
      "execution_count": 0,
      "outputs": []
    },
    {
      "cell_type": "code",
      "metadata": {
        "colab_type": "code",
        "outputId": "be708406-e241-49bb-8d89-45984c605cff",
        "id": "J2_PNvZLSgHJ",
        "colab": {
          "base_uri": "https://localhost:8080/",
          "height": 34
        }
      },
      "source": [
        "contribs_combined.shape"
      ],
      "execution_count": 78,
      "outputs": [
        {
          "output_type": "execute_result",
          "data": {
            "text/plain": [
              "(827, 9)"
            ]
          },
          "metadata": {
            "tags": []
          },
          "execution_count": 78
        }
      ]
    },
    {
      "cell_type": "markdown",
      "metadata": {
        "id": "J55yhnFHSwJW",
        "colab_type": "text"
      },
      "source": [
        "#### Tech / Communications"
      ]
    },
    {
      "cell_type": "code",
      "metadata": {
        "id": "6ccgGfEwZwJs",
        "colab_type": "code",
        "colab": {}
      },
      "source": [
        "comm10 = wrangle_contribs(comm10, 2010, sector='tech_comm')\n",
        "comm12 = wrangle_contribs(comm12, 2012, sector='tech_comm')\n",
        "comm14 = wrangle_contribs(comm14, 2014, sector='tech_comm')\n",
        "comm16 = wrangle_contribs(comm16, 2016, sector='tech_comm')"
      ],
      "execution_count": 0,
      "outputs": []
    },
    {
      "cell_type": "code",
      "metadata": {
        "id": "fpuBskJyXCVr",
        "colab_type": "code",
        "colab": {}
      },
      "source": [
        "contribs_combined = pd.merge(contribs_combined,\n",
        "                             comm10.drop_duplicates(),\n",
        "                             on=['member_name'], how='outer', copy=False)\n",
        "contribs_combined = pd.merge(contribs_combined,\n",
        "                             comm12.drop_duplicates(),\n",
        "                             on=['member_name'], how='outer', copy=False)\n",
        "contribs_combined = pd.merge(contribs_combined, \n",
        "                             comm14.drop_duplicates(), \n",
        "                             on=['member_name'], how='outer', copy=False)\n",
        "contribs_combined = pd.merge(contribs_combined,\n",
        "                             comm16.drop_duplicates(),\n",
        "                             on=['member_name'], how='outer', copy=False)"
      ],
      "execution_count": 0,
      "outputs": []
    },
    {
      "cell_type": "code",
      "metadata": {
        "colab_type": "code",
        "outputId": "fe05187e-303c-4580-8e90-4f18232ad040",
        "id": "g30pPVyBSfQG",
        "colab": {
          "base_uri": "https://localhost:8080/",
          "height": 34
        }
      },
      "source": [
        "contribs_combined.shape"
      ],
      "execution_count": 81,
      "outputs": [
        {
          "output_type": "execute_result",
          "data": {
            "text/plain": [
              "(887, 13)"
            ]
          },
          "metadata": {
            "tags": []
          },
          "execution_count": 81
        }
      ]
    },
    {
      "cell_type": "markdown",
      "metadata": {
        "id": "zcuiPn57SuLE",
        "colab_type": "text"
      },
      "source": [
        "#### Health"
      ]
    },
    {
      "cell_type": "code",
      "metadata": {
        "id": "usPr5wRsZxqK",
        "colab_type": "code",
        "colab": {}
      },
      "source": [
        "health10 = wrangle_contribs(health10, 2010, sector='health')\n",
        "health12 = wrangle_contribs(health12, 2012, sector='health')\n",
        "health14 = wrangle_contribs(health14, 2014, sector='health')\n",
        "health16 = wrangle_contribs(health16, 2016, sector='health')"
      ],
      "execution_count": 0,
      "outputs": []
    },
    {
      "cell_type": "code",
      "metadata": {
        "id": "PzjIt3dBXIOV",
        "colab_type": "code",
        "colab": {}
      },
      "source": [
        "contribs_combined = pd.merge(contribs_combined,\n",
        "                             health10.drop_duplicates(),\n",
        "                             on=['member_name'], how='outer')\n",
        "contribs_combined = pd.merge(contribs_combined, \n",
        "                             health12.drop_duplicates(),\n",
        "                             on=['member_name'], how='outer')\n",
        "contribs_combined = pd.merge(contribs_combined,\n",
        "                             health14.drop_duplicates(),\n",
        "                             on=['member_name'], how='outer')\n",
        "contribs_combined = pd.merge(contribs_combined,\n",
        "                             health16.drop_duplicates(),\n",
        "                             on=['member_name'], how='outer')"
      ],
      "execution_count": 0,
      "outputs": []
    },
    {
      "cell_type": "code",
      "metadata": {
        "id": "fRWhuMgFXhYu",
        "colab_type": "code",
        "outputId": "ecc06d27-bb7b-4a52-d810-262df4c526cb",
        "colab": {
          "base_uri": "https://localhost:8080/",
          "height": 34
        }
      },
      "source": [
        "contribs_combined.shape"
      ],
      "execution_count": 84,
      "outputs": [
        {
          "output_type": "execute_result",
          "data": {
            "text/plain": [
              "(1337, 17)"
            ]
          },
          "metadata": {
            "tags": []
          },
          "execution_count": 84
        }
      ]
    },
    {
      "cell_type": "markdown",
      "metadata": {
        "id": "jUeAnpbFS0_c",
        "colab_type": "text"
      },
      "source": [
        "#### Finance"
      ]
    },
    {
      "cell_type": "code",
      "metadata": {
        "id": "LfQs4JLTGWZG",
        "colab_type": "code",
        "colab": {}
      },
      "source": [
        "fin10 = wrangle_contribs(fin10, 2010, sector='finance')\n",
        "fin12 = wrangle_contribs(fin12, 2012, sector='finance')\n",
        "fin14 = wrangle_contribs(fin14, 2014, sector='finance')\n",
        "fin16 = wrangle_contribs(fin16, 2016, sector='finance')"
      ],
      "execution_count": 0,
      "outputs": []
    },
    {
      "cell_type": "code",
      "metadata": {
        "id": "1OaA3NMqXPcB",
        "colab_type": "code",
        "colab": {}
      },
      "source": [
        "contribs_combined = pd.merge(contribs_combined,\n",
        "                             fin10.drop_duplicates(),\n",
        "                             on=['member_name'], how='outer', copy=False)\n",
        "contribs_combined = pd.merge(contribs_combined, \n",
        "                             fin12.drop_duplicates(),\n",
        "                             on=['member_name'], how='outer', copy=False)\n",
        "contribs_combined = pd.merge(contribs_combined, \n",
        "                             fin14.drop_duplicates(), \n",
        "                             on=['member_name'], how='outer', copy=False)\n",
        "contribs_combined = pd.merge(contribs_combined,\n",
        "                             fin16.drop_duplicates(),\n",
        "                             on=['member_name'], how='outer', copy=False)"
      ],
      "execution_count": 0,
      "outputs": []
    },
    {
      "cell_type": "code",
      "metadata": {
        "id": "l6nK8uEOKoVm",
        "colab_type": "code",
        "outputId": "1fae9f34-ed0a-4e8d-c70b-2eeef7649bcc",
        "colab": {
          "base_uri": "https://localhost:8080/",
          "height": 34
        }
      },
      "source": [
        "print(\"Hello, World!\")"
      ],
      "execution_count": 87,
      "outputs": [
        {
          "output_type": "stream",
          "text": [
            "Hello, World!\n"
          ],
          "name": "stdout"
        }
      ]
    },
    {
      "cell_type": "code",
      "metadata": {
        "id": "WYw1K632iapa",
        "colab_type": "code",
        "outputId": "c867c809-6b6a-4a3d-a04a-2b04d00dcd5b",
        "colab": {
          "base_uri": "https://localhost:8080/",
          "height": 34
        }
      },
      "source": [
        "contribs_combined.shape"
      ],
      "execution_count": 88,
      "outputs": [
        {
          "output_type": "execute_result",
          "data": {
            "text/plain": [
              "(2873, 21)"
            ]
          },
          "metadata": {
            "tags": []
          },
          "execution_count": 88
        }
      ]
    },
    {
      "cell_type": "code",
      "metadata": {
        "id": "CFK6FWiQBBt7",
        "colab_type": "code",
        "colab": {}
      },
      "source": [
        "contribs_combined.drop(contribs_combined.loc[contribs_combined['member_name']==\n",
        "                                             'Rogers, Mike'].index,\n",
        "                        inplace=True)"
      ],
      "execution_count": 0,
      "outputs": []
    },
    {
      "cell_type": "markdown",
      "metadata": {
        "id": "w7eu3aMfB9O7",
        "colab_type": "text"
      },
      "source": [
        "## Merging PFDs with Contributions DataFrames"
      ]
    },
    {
      "cell_type": "code",
      "metadata": {
        "id": "awK2l0qtjU5g",
        "colab_type": "code",
        "colab": {}
      },
      "source": [
        "combined_df = pd.merge(pfd_combined, contribs_combined,\n",
        "                       how='left', on=['member_name'])\n",
        "\n",
        "combined_df = combined_df.replace([np.inf, -np.inf], np.nan)    "
      ],
      "execution_count": 0,
      "outputs": []
    },
    {
      "cell_type": "code",
      "metadata": {
        "id": "OhZNExfYCmKp",
        "colab_type": "code",
        "outputId": "80d448ca-b808-45f5-8f80-f18723d77b60",
        "colab": {
          "base_uri": "https://localhost:8080/",
          "height": 34
        }
      },
      "source": [
        "combined_df.shape"
      ],
      "execution_count": 91,
      "outputs": [
        {
          "output_type": "execute_result",
          "data": {
            "text/plain": [
              "(997, 36)"
            ]
          },
          "metadata": {
            "tags": []
          },
          "execution_count": 91
        }
      ]
    },
    {
      "cell_type": "code",
      "metadata": {
        "id": "HZmHg5WKLeuA",
        "colab_type": "code",
        "outputId": "08506bb3-6f0f-4b48-856b-5ea4b536f95d",
        "colab": {
          "base_uri": "https://localhost:8080/",
          "height": 258
        }
      },
      "source": [
        "combined_df.head()"
      ],
      "execution_count": 92,
      "outputs": [
        {
          "output_type": "execute_result",
          "data": {
            "text/html": [
              "<div>\n",
              "<style scoped>\n",
              "    .dataframe tbody tr th:only-of-type {\n",
              "        vertical-align: middle;\n",
              "    }\n",
              "\n",
              "    .dataframe tbody tr th {\n",
              "        vertical-align: top;\n",
              "    }\n",
              "\n",
              "    .dataframe thead th {\n",
              "        text-align: right;\n",
              "    }\n",
              "</style>\n",
              "<table border=\"1\" class=\"dataframe\">\n",
              "  <thead>\n",
              "    <tr style=\"text-align: right;\">\n",
              "      <th></th>\n",
              "      <th>chamber</th>\n",
              "      <th>member_name</th>\n",
              "      <th>party</th>\n",
              "      <th>net_worth_2010</th>\n",
              "      <th>net_worth_2011</th>\n",
              "      <th>2011_net_increase</th>\n",
              "      <th>net_worth_2012</th>\n",
              "      <th>2012_net_increase</th>\n",
              "      <th>net_worth_2013</th>\n",
              "      <th>2013_net_increase</th>\n",
              "      <th>net_worth_2014</th>\n",
              "      <th>2014_net_increase</th>\n",
              "      <th>net_worth_2015</th>\n",
              "      <th>2015_net_increase</th>\n",
              "      <th>net_worth_2016</th>\n",
              "      <th>2016_net_increase</th>\n",
              "      <th>defense_friendliness_rating_2010</th>\n",
              "      <th>defense_friendliness_rating_2012</th>\n",
              "      <th>defense_friendliness_rating_2014</th>\n",
              "      <th>defense_friendliness_rating_2016</th>\n",
              "      <th>energy_friendliness_rating_2010</th>\n",
              "      <th>energy_friendliness_rating_2012</th>\n",
              "      <th>energy_friendliness_rating_2014</th>\n",
              "      <th>energy_friendliness_rating_2016</th>\n",
              "      <th>tech_comm_friendliness_rating_2010</th>\n",
              "      <th>tech_comm_friendliness_rating_2012</th>\n",
              "      <th>tech_comm_friendliness_rating_2014</th>\n",
              "      <th>tech_comm_friendliness_rating_2016</th>\n",
              "      <th>health_friendliness_rating_2010</th>\n",
              "      <th>health_friendliness_rating_2012</th>\n",
              "      <th>health_friendliness_rating_2014</th>\n",
              "      <th>health_friendliness_rating_2016</th>\n",
              "      <th>finance_friendliness_rating_2010</th>\n",
              "      <th>finance_friendliness_rating_2012</th>\n",
              "      <th>finance_friendliness_rating_2014</th>\n",
              "      <th>finance_friendliness_rating_2016</th>\n",
              "    </tr>\n",
              "  </thead>\n",
              "  <tbody>\n",
              "    <tr>\n",
              "      <th>0</th>\n",
              "      <td>House</td>\n",
              "      <td>Issa, Darrell</td>\n",
              "      <td>R</td>\n",
              "      <td>448125017.0</td>\n",
              "      <td>480325019.0</td>\n",
              "      <td>7.185495</td>\n",
              "      <td>464115018.0</td>\n",
              "      <td>-3.374798</td>\n",
              "      <td>448425019.0</td>\n",
              "      <td>-3.380627</td>\n",
              "      <td>436500015.0</td>\n",
              "      <td>-2.659308</td>\n",
              "      <td>330050015.0</td>\n",
              "      <td>-24.38717</td>\n",
              "      <td>323782513.0</td>\n",
              "      <td>-1.898955</td>\n",
              "      <td>4</td>\n",
              "      <td>5</td>\n",
              "      <td>4</td>\n",
              "      <td>4</td>\n",
              "      <td>4</td>\n",
              "      <td>4</td>\n",
              "      <td>4</td>\n",
              "      <td>4</td>\n",
              "      <td>5</td>\n",
              "      <td>5</td>\n",
              "      <td>5</td>\n",
              "      <td>5</td>\n",
              "      <td>3</td>\n",
              "      <td>4</td>\n",
              "      <td>4</td>\n",
              "      <td>3</td>\n",
              "      <td>3</td>\n",
              "      <td>4</td>\n",
              "      <td>4</td>\n",
              "      <td>4</td>\n",
              "    </tr>\n",
              "    <tr>\n",
              "      <th>1</th>\n",
              "      <td>House</td>\n",
              "      <td>McCaul, Michael</td>\n",
              "      <td>R</td>\n",
              "      <td>380411527.0</td>\n",
              "      <td>500624461.0</td>\n",
              "      <td>31.600760</td>\n",
              "      <td>143153910.0</td>\n",
              "      <td>-71.404931</td>\n",
              "      <td>162882467.0</td>\n",
              "      <td>13.781361</td>\n",
              "      <td>160340931.0</td>\n",
              "      <td>-1.560350</td>\n",
              "      <td>4150505.0</td>\n",
              "      <td>-97.41145</td>\n",
              "      <td>0.0</td>\n",
              "      <td>-100.000000</td>\n",
              "      <td>4</td>\n",
              "      <td>5</td>\n",
              "      <td>5</td>\n",
              "      <td>5</td>\n",
              "      <td>5</td>\n",
              "      <td>4</td>\n",
              "      <td>5</td>\n",
              "      <td>5</td>\n",
              "      <td>5</td>\n",
              "      <td>5</td>\n",
              "      <td>5</td>\n",
              "      <td>5</td>\n",
              "      <td>3</td>\n",
              "      <td>2</td>\n",
              "      <td>2</td>\n",
              "      <td>2</td>\n",
              "      <td>4</td>\n",
              "      <td>4</td>\n",
              "      <td>4</td>\n",
              "      <td>4</td>\n",
              "    </tr>\n",
              "    <tr>\n",
              "      <th>2</th>\n",
              "      <td>House</td>\n",
              "      <td>Harman, Jane</td>\n",
              "      <td>D</td>\n",
              "      <td>326844751.0</td>\n",
              "      <td>NaN</td>\n",
              "      <td>NaN</td>\n",
              "      <td>NaN</td>\n",
              "      <td>NaN</td>\n",
              "      <td>NaN</td>\n",
              "      <td>NaN</td>\n",
              "      <td>NaN</td>\n",
              "      <td>NaN</td>\n",
              "      <td>NaN</td>\n",
              "      <td>NaN</td>\n",
              "      <td>NaN</td>\n",
              "      <td>NaN</td>\n",
              "      <td>5</td>\n",
              "      <td>NaN</td>\n",
              "      <td>NaN</td>\n",
              "      <td>NaN</td>\n",
              "      <td>3</td>\n",
              "      <td>NaN</td>\n",
              "      <td>NaN</td>\n",
              "      <td>NaN</td>\n",
              "      <td>4</td>\n",
              "      <td>NaN</td>\n",
              "      <td>NaN</td>\n",
              "      <td>NaN</td>\n",
              "      <td>2</td>\n",
              "      <td>NaN</td>\n",
              "      <td>NaN</td>\n",
              "      <td>NaN</td>\n",
              "      <td>4</td>\n",
              "      <td>NaN</td>\n",
              "      <td>NaN</td>\n",
              "      <td>NaN</td>\n",
              "    </tr>\n",
              "    <tr>\n",
              "      <th>3</th>\n",
              "      <td>Senate</td>\n",
              "      <td>Kerry, John</td>\n",
              "      <td>D</td>\n",
              "      <td>231722794.0</td>\n",
              "      <td>NaN</td>\n",
              "      <td>NaN</td>\n",
              "      <td>NaN</td>\n",
              "      <td>NaN</td>\n",
              "      <td>NaN</td>\n",
              "      <td>NaN</td>\n",
              "      <td>NaN</td>\n",
              "      <td>NaN</td>\n",
              "      <td>NaN</td>\n",
              "      <td>NaN</td>\n",
              "      <td>NaN</td>\n",
              "      <td>NaN</td>\n",
              "      <td>3</td>\n",
              "      <td>1</td>\n",
              "      <td>1</td>\n",
              "      <td>NaN</td>\n",
              "      <td>3</td>\n",
              "      <td>1</td>\n",
              "      <td>1</td>\n",
              "      <td>NaN</td>\n",
              "      <td>5</td>\n",
              "      <td>4</td>\n",
              "      <td>1</td>\n",
              "      <td>NaN</td>\n",
              "      <td>4</td>\n",
              "      <td>2</td>\n",
              "      <td>1</td>\n",
              "      <td>NaN</td>\n",
              "      <td>4</td>\n",
              "      <td>2</td>\n",
              "      <td>1</td>\n",
              "      <td>NaN</td>\n",
              "    </tr>\n",
              "    <tr>\n",
              "      <th>4</th>\n",
              "      <td>Senate</td>\n",
              "      <td>Warner, Mark</td>\n",
              "      <td>D</td>\n",
              "      <td>192730605.0</td>\n",
              "      <td>228129609.0</td>\n",
              "      <td>18.367090</td>\n",
              "      <td>257481658.0</td>\n",
              "      <td>12.866392</td>\n",
              "      <td>254176651.0</td>\n",
              "      <td>-1.283589</td>\n",
              "      <td>242889630.0</td>\n",
              "      <td>-4.440621</td>\n",
              "      <td>238157630.0</td>\n",
              "      <td>-1.94821</td>\n",
              "      <td>245680083.0</td>\n",
              "      <td>3.158603</td>\n",
              "      <td>4</td>\n",
              "      <td>4</td>\n",
              "      <td>5</td>\n",
              "      <td>4</td>\n",
              "      <td>3</td>\n",
              "      <td>4</td>\n",
              "      <td>5</td>\n",
              "      <td>3</td>\n",
              "      <td>5</td>\n",
              "      <td>5</td>\n",
              "      <td>5</td>\n",
              "      <td>4</td>\n",
              "      <td>3</td>\n",
              "      <td>4</td>\n",
              "      <td>5</td>\n",
              "      <td>4</td>\n",
              "      <td>5</td>\n",
              "      <td>5</td>\n",
              "      <td>5</td>\n",
              "      <td>4</td>\n",
              "    </tr>\n",
              "  </tbody>\n",
              "</table>\n",
              "</div>"
            ],
            "text/plain": [
              "  chamber  ... finance_friendliness_rating_2016\n",
              "0   House  ...                                4\n",
              "1   House  ...                                4\n",
              "2   House  ...                              NaN\n",
              "3  Senate  ...                              NaN\n",
              "4  Senate  ...                                4\n",
              "\n",
              "[5 rows x 36 columns]"
            ]
          },
          "metadata": {
            "tags": []
          },
          "execution_count": 92
        }
      ]
    },
    {
      "cell_type": "code",
      "metadata": {
        "id": "YYje-Zr1IlCe",
        "colab_type": "code",
        "outputId": "bc3d0a87-02fb-4926-cf24-40739f826306",
        "colab": {
          "base_uri": "https://localhost:8080/",
          "height": 629
        }
      },
      "source": [
        "combined_df.columns.tolist()"
      ],
      "execution_count": 93,
      "outputs": [
        {
          "output_type": "execute_result",
          "data": {
            "text/plain": [
              "['chamber',\n",
              " 'member_name',\n",
              " 'party',\n",
              " 'net_worth_2010',\n",
              " 'net_worth_2011',\n",
              " '2011_net_increase',\n",
              " 'net_worth_2012',\n",
              " '2012_net_increase',\n",
              " 'net_worth_2013',\n",
              " '2013_net_increase',\n",
              " 'net_worth_2014',\n",
              " '2014_net_increase',\n",
              " 'net_worth_2015',\n",
              " '2015_net_increase',\n",
              " 'net_worth_2016',\n",
              " '2016_net_increase',\n",
              " 'defense_friendliness_rating_2010',\n",
              " 'defense_friendliness_rating_2012',\n",
              " 'defense_friendliness_rating_2014',\n",
              " 'defense_friendliness_rating_2016',\n",
              " 'energy_friendliness_rating_2010',\n",
              " 'energy_friendliness_rating_2012',\n",
              " 'energy_friendliness_rating_2014',\n",
              " 'energy_friendliness_rating_2016',\n",
              " 'tech_comm_friendliness_rating_2010',\n",
              " 'tech_comm_friendliness_rating_2012',\n",
              " 'tech_comm_friendliness_rating_2014',\n",
              " 'tech_comm_friendliness_rating_2016',\n",
              " 'health_friendliness_rating_2010',\n",
              " 'health_friendliness_rating_2012',\n",
              " 'health_friendliness_rating_2014',\n",
              " 'health_friendliness_rating_2016',\n",
              " 'finance_friendliness_rating_2010',\n",
              " 'finance_friendliness_rating_2012',\n",
              " 'finance_friendliness_rating_2014',\n",
              " 'finance_friendliness_rating_2016']"
            ]
          },
          "metadata": {
            "tags": []
          },
          "execution_count": 93
        }
      ]
    },
    {
      "cell_type": "code",
      "metadata": {
        "id": "vs7ysP29M_fv",
        "colab_type": "code",
        "colab": {}
      },
      "source": [
        "combined_df['2010_friendliness_avg'] = combined_df[['defense_friendliness_rating_2010',\n",
        "                                               'tech_comm_friendliness_rating_2010',\n",
        "                                               'finance_friendliness_rating_2010',\n",
        "                                               'health_friendliness_rating_2010',\n",
        "                                               'energy_friendliness_rating_2010']].mean(axis=1)\n",
        "                                    "
      ],
      "execution_count": 0,
      "outputs": []
    },
    {
      "cell_type": "code",
      "metadata": {
        "id": "fTjl4fu5NHXr",
        "colab_type": "code",
        "colab": {}
      },
      "source": [
        "combined_df['2012_friendliness_avg'] = combined_df[['defense_friendliness_rating_2012',\n",
        "                                               'tech_comm_friendliness_rating_2012',\n",
        "                                               'finance_friendliness_rating_2012',\n",
        "                                               'health_friendliness_rating_2012',\n",
        "                                               'energy_friendliness_rating_2012']].mean(axis=1)"
      ],
      "execution_count": 0,
      "outputs": []
    },
    {
      "cell_type": "code",
      "metadata": {
        "id": "RrQzKlLMt2SI",
        "colab_type": "code",
        "colab": {}
      },
      "source": [
        "combined_df['2014_friendliness_avg'] = combined_df[['defense_friendliness_rating_2014',\n",
        "                                               'tech_comm_friendliness_rating_2014',\n",
        "                                               'finance_friendliness_rating_2014',\n",
        "                                               'health_friendliness_rating_2014',\n",
        "                                               'energy_friendliness_rating_2014']].mean(axis=1)"
      ],
      "execution_count": 0,
      "outputs": []
    },
    {
      "cell_type": "code",
      "metadata": {
        "id": "1ladWWAxt29B",
        "colab_type": "code",
        "colab": {}
      },
      "source": [
        "combined_df['2016_friendliness_avg'] = combined_df[['defense_friendliness_rating_2016',\n",
        "                                               'tech_comm_friendliness_rating_2016',\n",
        "                                               'finance_friendliness_rating_2016',\n",
        "                                               'health_friendliness_rating_2016',\n",
        "                                               'energy_friendliness_rating_2016']].mean(axis=1)"
      ],
      "execution_count": 0,
      "outputs": []
    },
    {
      "cell_type": "code",
      "metadata": {
        "id": "OAFqJpDHsC8X",
        "colab_type": "code",
        "colab": {
          "base_uri": "https://localhost:8080/",
          "height": 34
        },
        "outputId": "8af7aaf0-9224-4ef0-a4e2-df0fa44be1eb"
      },
      "source": [
        "combined_df.shape"
      ],
      "execution_count": 102,
      "outputs": [
        {
          "output_type": "execute_result",
          "data": {
            "text/plain": [
              "(997, 40)"
            ]
          },
          "metadata": {
            "tags": []
          },
          "execution_count": 102
        }
      ]
    },
    {
      "cell_type": "code",
      "metadata": {
        "id": "TGDLu_nS5B_8",
        "colab_type": "code",
        "colab": {}
      },
      "source": [
        "combined_df.to_csv('congress_net_worth.csv')"
      ],
      "execution_count": 0,
      "outputs": []
    }
  ]
}